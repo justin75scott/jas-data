{
 "cells": [
  {
   "cell_type": "code",
   "execution_count": 143,
   "metadata": {},
   "outputs": [
    {
     "data": {
      "text/html": [
       "<div>\n",
       "<style scoped>\n",
       "    .dataframe tbody tr th:only-of-type {\n",
       "        vertical-align: middle;\n",
       "    }\n",
       "\n",
       "    .dataframe tbody tr th {\n",
       "        vertical-align: top;\n",
       "    }\n",
       "\n",
       "    .dataframe thead th {\n",
       "        text-align: right;\n",
       "    }\n",
       "</style>\n",
       "<table border=\"1\" class=\"dataframe\">\n",
       "  <thead>\n",
       "    <tr style=\"text-align: right;\">\n",
       "      <th></th>\n",
       "      <th>sequence_number</th>\n",
       "      <th>US</th>\n",
       "      <th>source_a</th>\n",
       "      <th>source_c</th>\n",
       "      <th>source_b</th>\n",
       "      <th>source_d</th>\n",
       "      <th>source_e</th>\n",
       "      <th>source_m</th>\n",
       "      <th>source_o</th>\n",
       "      <th>source_h</th>\n",
       "      <th>...</th>\n",
       "      <th>source_x</th>\n",
       "      <th>source_w</th>\n",
       "      <th>Freq</th>\n",
       "      <th>last_update_days_ago</th>\n",
       "      <th>1st_update_days_ago</th>\n",
       "      <th>Web order</th>\n",
       "      <th>Gender=male</th>\n",
       "      <th>Address_is_res</th>\n",
       "      <th>Purchase</th>\n",
       "      <th>Spending</th>\n",
       "    </tr>\n",
       "  </thead>\n",
       "  <tbody>\n",
       "    <tr>\n",
       "      <th>count</th>\n",
       "      <td>1000.0000</td>\n",
       "      <td>1000.000000</td>\n",
       "      <td>1000.000000</td>\n",
       "      <td>1000.000000</td>\n",
       "      <td>1000.000000</td>\n",
       "      <td>1000.000000</td>\n",
       "      <td>1000.000000</td>\n",
       "      <td>1000.000000</td>\n",
       "      <td>1000.000000</td>\n",
       "      <td>1000.00000</td>\n",
       "      <td>...</td>\n",
       "      <td>1000.000000</td>\n",
       "      <td>1000.000000</td>\n",
       "      <td>1000.000000</td>\n",
       "      <td>1000.000000</td>\n",
       "      <td>1000.000000</td>\n",
       "      <td>1000.000000</td>\n",
       "      <td>1000.000000</td>\n",
       "      <td>1000.000000</td>\n",
       "      <td>1000.0</td>\n",
       "      <td>1000.000000</td>\n",
       "    </tr>\n",
       "    <tr>\n",
       "      <th>mean</th>\n",
       "      <td>963.5360</td>\n",
       "      <td>0.833000</td>\n",
       "      <td>0.197000</td>\n",
       "      <td>0.044000</td>\n",
       "      <td>0.036000</td>\n",
       "      <td>0.047000</td>\n",
       "      <td>0.134000</td>\n",
       "      <td>0.019000</td>\n",
       "      <td>0.013000</td>\n",
       "      <td>0.01200</td>\n",
       "      <td>...</td>\n",
       "      <td>0.017000</td>\n",
       "      <td>0.154000</td>\n",
       "      <td>2.077000</td>\n",
       "      <td>1975.010000</td>\n",
       "      <td>2475.384000</td>\n",
       "      <td>0.544000</td>\n",
       "      <td>0.514000</td>\n",
       "      <td>0.223000</td>\n",
       "      <td>1.0</td>\n",
       "      <td>205.249000</td>\n",
       "    </tr>\n",
       "    <tr>\n",
       "      <th>std</th>\n",
       "      <td>584.7072</td>\n",
       "      <td>0.373162</td>\n",
       "      <td>0.397931</td>\n",
       "      <td>0.205198</td>\n",
       "      <td>0.186383</td>\n",
       "      <td>0.211745</td>\n",
       "      <td>0.340823</td>\n",
       "      <td>0.136593</td>\n",
       "      <td>0.113331</td>\n",
       "      <td>0.10894</td>\n",
       "      <td>...</td>\n",
       "      <td>0.129336</td>\n",
       "      <td>0.361129</td>\n",
       "      <td>1.598633</td>\n",
       "      <td>1118.469756</td>\n",
       "      <td>1032.463509</td>\n",
       "      <td>0.498309</td>\n",
       "      <td>0.500054</td>\n",
       "      <td>0.416467</td>\n",
       "      <td>0.0</td>\n",
       "      <td>220.739559</td>\n",
       "    </tr>\n",
       "    <tr>\n",
       "      <th>min</th>\n",
       "      <td>1.0000</td>\n",
       "      <td>0.000000</td>\n",
       "      <td>0.000000</td>\n",
       "      <td>0.000000</td>\n",
       "      <td>0.000000</td>\n",
       "      <td>0.000000</td>\n",
       "      <td>0.000000</td>\n",
       "      <td>0.000000</td>\n",
       "      <td>0.000000</td>\n",
       "      <td>0.00000</td>\n",
       "      <td>...</td>\n",
       "      <td>0.000000</td>\n",
       "      <td>0.000000</td>\n",
       "      <td>1.000000</td>\n",
       "      <td>1.000000</td>\n",
       "      <td>1.000000</td>\n",
       "      <td>0.000000</td>\n",
       "      <td>0.000000</td>\n",
       "      <td>0.000000</td>\n",
       "      <td>1.0</td>\n",
       "      <td>3.000000</td>\n",
       "    </tr>\n",
       "    <tr>\n",
       "      <th>25%</th>\n",
       "      <td>436.0000</td>\n",
       "      <td>1.000000</td>\n",
       "      <td>0.000000</td>\n",
       "      <td>0.000000</td>\n",
       "      <td>0.000000</td>\n",
       "      <td>0.000000</td>\n",
       "      <td>0.000000</td>\n",
       "      <td>0.000000</td>\n",
       "      <td>0.000000</td>\n",
       "      <td>0.00000</td>\n",
       "      <td>...</td>\n",
       "      <td>0.000000</td>\n",
       "      <td>0.000000</td>\n",
       "      <td>1.000000</td>\n",
       "      <td>1027.750000</td>\n",
       "      <td>1790.750000</td>\n",
       "      <td>0.000000</td>\n",
       "      <td>0.000000</td>\n",
       "      <td>0.000000</td>\n",
       "      <td>1.0</td>\n",
       "      <td>94.750000</td>\n",
       "    </tr>\n",
       "    <tr>\n",
       "      <th>50%</th>\n",
       "      <td>951.0000</td>\n",
       "      <td>1.000000</td>\n",
       "      <td>0.000000</td>\n",
       "      <td>0.000000</td>\n",
       "      <td>0.000000</td>\n",
       "      <td>0.000000</td>\n",
       "      <td>0.000000</td>\n",
       "      <td>0.000000</td>\n",
       "      <td>0.000000</td>\n",
       "      <td>0.00000</td>\n",
       "      <td>...</td>\n",
       "      <td>0.000000</td>\n",
       "      <td>0.000000</td>\n",
       "      <td>2.000000</td>\n",
       "      <td>1995.000000</td>\n",
       "      <td>2612.500000</td>\n",
       "      <td>1.000000</td>\n",
       "      <td>1.000000</td>\n",
       "      <td>0.000000</td>\n",
       "      <td>1.0</td>\n",
       "      <td>153.000000</td>\n",
       "    </tr>\n",
       "    <tr>\n",
       "      <th>75%</th>\n",
       "      <td>1485.2500</td>\n",
       "      <td>1.000000</td>\n",
       "      <td>0.000000</td>\n",
       "      <td>0.000000</td>\n",
       "      <td>0.000000</td>\n",
       "      <td>0.000000</td>\n",
       "      <td>0.000000</td>\n",
       "      <td>0.000000</td>\n",
       "      <td>0.000000</td>\n",
       "      <td>0.00000</td>\n",
       "      <td>...</td>\n",
       "      <td>0.000000</td>\n",
       "      <td>0.000000</td>\n",
       "      <td>2.250000</td>\n",
       "      <td>2912.000000</td>\n",
       "      <td>3270.000000</td>\n",
       "      <td>1.000000</td>\n",
       "      <td>1.000000</td>\n",
       "      <td>0.000000</td>\n",
       "      <td>1.0</td>\n",
       "      <td>233.750000</td>\n",
       "    </tr>\n",
       "    <tr>\n",
       "      <th>max</th>\n",
       "      <td>1997.0000</td>\n",
       "      <td>1.000000</td>\n",
       "      <td>1.000000</td>\n",
       "      <td>1.000000</td>\n",
       "      <td>1.000000</td>\n",
       "      <td>1.000000</td>\n",
       "      <td>1.000000</td>\n",
       "      <td>1.000000</td>\n",
       "      <td>1.000000</td>\n",
       "      <td>1.00000</td>\n",
       "      <td>...</td>\n",
       "      <td>1.000000</td>\n",
       "      <td>1.000000</td>\n",
       "      <td>15.000000</td>\n",
       "      <td>4188.000000</td>\n",
       "      <td>4188.000000</td>\n",
       "      <td>1.000000</td>\n",
       "      <td>1.000000</td>\n",
       "      <td>1.000000</td>\n",
       "      <td>1.0</td>\n",
       "      <td>1500.000000</td>\n",
       "    </tr>\n",
       "  </tbody>\n",
       "</table>\n",
       "<p>8 rows × 25 columns</p>\n",
       "</div>"
      ],
      "text/plain": [
       "       sequence_number           US     source_a     source_c     source_b  \\\n",
       "count        1000.0000  1000.000000  1000.000000  1000.000000  1000.000000   \n",
       "mean          963.5360     0.833000     0.197000     0.044000     0.036000   \n",
       "std           584.7072     0.373162     0.397931     0.205198     0.186383   \n",
       "min             1.0000     0.000000     0.000000     0.000000     0.000000   \n",
       "25%           436.0000     1.000000     0.000000     0.000000     0.000000   \n",
       "50%           951.0000     1.000000     0.000000     0.000000     0.000000   \n",
       "75%          1485.2500     1.000000     0.000000     0.000000     0.000000   \n",
       "max          1997.0000     1.000000     1.000000     1.000000     1.000000   \n",
       "\n",
       "          source_d     source_e     source_m     source_o    source_h  ...  \\\n",
       "count  1000.000000  1000.000000  1000.000000  1000.000000  1000.00000  ...   \n",
       "mean      0.047000     0.134000     0.019000     0.013000     0.01200  ...   \n",
       "std       0.211745     0.340823     0.136593     0.113331     0.10894  ...   \n",
       "min       0.000000     0.000000     0.000000     0.000000     0.00000  ...   \n",
       "25%       0.000000     0.000000     0.000000     0.000000     0.00000  ...   \n",
       "50%       0.000000     0.000000     0.000000     0.000000     0.00000  ...   \n",
       "75%       0.000000     0.000000     0.000000     0.000000     0.00000  ...   \n",
       "max       1.000000     1.000000     1.000000     1.000000     1.00000  ...   \n",
       "\n",
       "          source_x     source_w         Freq  last_update_days_ago  \\\n",
       "count  1000.000000  1000.000000  1000.000000           1000.000000   \n",
       "mean      0.017000     0.154000     2.077000           1975.010000   \n",
       "std       0.129336     0.361129     1.598633           1118.469756   \n",
       "min       0.000000     0.000000     1.000000              1.000000   \n",
       "25%       0.000000     0.000000     1.000000           1027.750000   \n",
       "50%       0.000000     0.000000     2.000000           1995.000000   \n",
       "75%       0.000000     0.000000     2.250000           2912.000000   \n",
       "max       1.000000     1.000000    15.000000           4188.000000   \n",
       "\n",
       "       1st_update_days_ago    Web order  Gender=male  Address_is_res  \\\n",
       "count          1000.000000  1000.000000  1000.000000     1000.000000   \n",
       "mean           2475.384000     0.544000     0.514000        0.223000   \n",
       "std            1032.463509     0.498309     0.500054        0.416467   \n",
       "min               1.000000     0.000000     0.000000        0.000000   \n",
       "25%            1790.750000     0.000000     0.000000        0.000000   \n",
       "50%            2612.500000     1.000000     1.000000        0.000000   \n",
       "75%            3270.000000     1.000000     1.000000        0.000000   \n",
       "max            4188.000000     1.000000     1.000000        1.000000   \n",
       "\n",
       "       Purchase     Spending  \n",
       "count    1000.0  1000.000000  \n",
       "mean        1.0   205.249000  \n",
       "std         0.0   220.739559  \n",
       "min         1.0     3.000000  \n",
       "25%         1.0    94.750000  \n",
       "50%         1.0   153.000000  \n",
       "75%         1.0   233.750000  \n",
       "max         1.0  1500.000000  \n",
       "\n",
       "[8 rows x 25 columns]"
      ]
     },
     "execution_count": 143,
     "metadata": {},
     "output_type": "execute_result"
    }
   ],
   "source": [
    "import pandas as pd\n",
    "tayko = pd.read_csv('datasets/Tayko.csv')\n",
    "tayko.describe()"
   ]
  },
  {
   "cell_type": "code",
   "execution_count": 144,
   "metadata": {},
   "outputs": [
    {
     "data": {
      "text/plain": [
       "Index(['sequence_number', 'US', 'source_a', 'source_c', 'source_b', 'source_d',\n",
       "       'source_e', 'source_m', 'source_o', 'source_h', 'source_r', 'source_s',\n",
       "       'source_t', 'source_u', 'source_p', 'source_x', 'source_w', 'Freq',\n",
       "       'last_update_days_ago', '1st_update_days_ago', 'Web order',\n",
       "       'Gender=male', 'Address_is_res', 'Purchase', 'Spending', 'Partition'],\n",
       "      dtype='object')"
      ]
     },
     "execution_count": 144,
     "metadata": {},
     "output_type": "execute_result"
    }
   ],
   "source": [
    "tayko.columns"
   ]
  },
  {
   "cell_type": "code",
   "execution_count": 145,
   "metadata": {},
   "outputs": [],
   "source": [
    "# rename columns to avoid problems with space characters or leading digits\n",
    "\n",
    "tayko = tayko.rename(columns={'1st_update_days_ago': 'first_update_days_ago', 'Web order': 'web_order', 'Gender=male': 'gender_male'})"
   ]
  },
  {
   "cell_type": "code",
   "execution_count": 146,
   "metadata": {},
   "outputs": [
    {
     "data": {
      "text/plain": [
       "205.249"
      ]
     },
     "execution_count": 146,
     "metadata": {},
     "output_type": "execute_result"
    }
   ],
   "source": [
    "tayko['Spending'].mean()"
   ]
  },
  {
   "cell_type": "code",
   "execution_count": 159,
   "metadata": {},
   "outputs": [
    {
     "data": {
      "text/plain": [
       "web_order\n",
       "0    208.710526\n",
       "1    202.347426\n",
       "Name: Spending, dtype: float64"
      ]
     },
     "execution_count": 159,
     "metadata": {},
     "output_type": "execute_result"
    }
   ],
   "source": [
    "tayko['Spending'].groupby(tayko['web_order']).mean()"
   ]
  },
  {
   "cell_type": "code",
   "execution_count": 160,
   "metadata": {},
   "outputs": [
    {
     "data": {
      "text/plain": [
       "web_order\n",
       "0    222.477962\n",
       "1    219.434655\n",
       "Name: Spending, dtype: float64"
      ]
     },
     "execution_count": 160,
     "metadata": {},
     "output_type": "execute_result"
    }
   ],
   "source": [
    "tayko['Spending'].groupby(tayko['web_order']).std()"
   ]
  },
  {
   "cell_type": "code",
   "execution_count": 147,
   "metadata": {},
   "outputs": [
    {
     "data": {
      "text/plain": [
       "gender_male\n",
       "0    210.039095\n",
       "1    200.719844\n",
       "Name: Spending, dtype: float64"
      ]
     },
     "execution_count": 147,
     "metadata": {},
     "output_type": "execute_result"
    }
   ],
   "source": [
    "tayko['Spending'].groupby(tayko['gender_male']).mean()"
   ]
  },
  {
   "cell_type": "code",
   "execution_count": 156,
   "metadata": {},
   "outputs": [
    {
     "data": {
      "text/plain": [
       "gender_male\n",
       "0    222.973246\n",
       "1    218.727285\n",
       "Name: Spending, dtype: float64"
      ]
     },
     "execution_count": 156,
     "metadata": {},
     "output_type": "execute_result"
    }
   ],
   "source": [
    "tayko['Spending'].groupby(tayko['gender_male']).std()"
   ]
  },
  {
   "cell_type": "code",
   "execution_count": 148,
   "metadata": {
    "scrolled": true
   },
   "outputs": [
    {
     "data": {
      "text/plain": [
       "Address_is_res\n",
       "0    211.153153\n",
       "1    184.677130\n",
       "Name: Spending, dtype: float64"
      ]
     },
     "execution_count": 148,
     "metadata": {},
     "output_type": "execute_result"
    }
   ],
   "source": [
    "tayko['Spending'].groupby(tayko['Address_is_res']).mean()"
   ]
  },
  {
   "cell_type": "code",
   "execution_count": 157,
   "metadata": {},
   "outputs": [
    {
     "data": {
      "text/plain": [
       "Address_is_res\n",
       "0    239.78176\n",
       "1    133.21088\n",
       "Name: Spending, dtype: float64"
      ]
     },
     "execution_count": 157,
     "metadata": {},
     "output_type": "execute_result"
    }
   ],
   "source": [
    "tayko['Spending'].groupby(tayko['Address_is_res']).std()"
   ]
  },
  {
   "cell_type": "code",
   "execution_count": 149,
   "metadata": {},
   "outputs": [
    {
     "data": {
      "text/plain": [
       "US\n",
       "0    212.736527\n",
       "1    203.747899\n",
       "Name: Spending, dtype: float64"
      ]
     },
     "execution_count": 149,
     "metadata": {},
     "output_type": "execute_result"
    }
   ],
   "source": [
    "tayko['Spending'].groupby(tayko['US']).mean()"
   ]
  },
  {
   "cell_type": "code",
   "execution_count": 158,
   "metadata": {},
   "outputs": [
    {
     "data": {
      "text/plain": [
       "US\n",
       "0    201.466407\n",
       "1    224.487293\n",
       "Name: Spending, dtype: float64"
      ]
     },
     "execution_count": 158,
     "metadata": {},
     "output_type": "execute_result"
    }
   ],
   "source": [
    "tayko['Spending'].groupby(tayko['US']).std()"
   ]
  },
  {
   "cell_type": "code",
   "execution_count": 150,
   "metadata": {},
   "outputs": [
    {
     "data": {
      "image/png": "[encoded data removed]",
      "text/plain": [
       "<Figure size 864x576 with 1 Axes>"
      ]
     },
     "metadata": {
      "needs_background": "light"
     },
     "output_type": "display_data"
    }
   ],
   "source": [
    "from matplotlib import pyplot as plt\n",
    "\n",
    "plt.figure(figsize=(12,8))\n",
    "plt.title('# Transactions vs Spending')\n",
    "plt.scatter(tayko['Freq'], tayko['Spending'])\n",
    "plt.xlabel('# Transactions')\n",
    "plt.ylabel('Spending $')\n",
    "plt.show()"
   ]
  },
  {
   "cell_type": "code",
   "execution_count": 151,
   "metadata": {},
   "outputs": [
    {
     "data": {
      "text/plain": [
       "Text(0, 0.5, 'Spending $')"
      ]
     },
     "execution_count": 151,
     "metadata": {},
     "output_type": "execute_result"
    },
    {
     "data": {
      "image/png": "[encoded data removed]",
      "text/plain": [
       "<Figure size 864x576 with 1 Axes>"
      ]
     },
     "metadata": {
      "needs_background": "light"
     },
     "output_type": "display_data"
    }
   ],
   "source": [
    "plt.figure(figsize=(12,8))\n",
    "plt.title('Last Record Update vs Spending')\n",
    "plt.scatter(tayko['last_update_days_ago'], tayko['Spending'])\n",
    "plt.xlabel('Last Update # Days Ago')\n",
    "plt.ylabel('Spending $')"
   ]
  },
  {
   "cell_type": "code",
   "execution_count": 152,
   "metadata": {},
   "outputs": [],
   "source": [
    "# SK Learn Linear Regression model\n",
    "\n",
    "from sklearn.linear_model import LinearRegression\n",
    "predictors = ['Freq', 'last_update_days_ago', 'web_order', 'gender_male', 'Address_is_res', 'US']\n",
    "outcome = 'Spending'"
   ]
  },
  {
   "cell_type": "code",
   "execution_count": 153,
   "metadata": {},
   "outputs": [],
   "source": [
    "X = tayko[predictors]\n",
    "y = tayko[outcome]"
   ]
  },
  {
   "cell_type": "code",
   "execution_count": 154,
   "metadata": {},
   "outputs": [
    {
     "data": {
      "text/plain": [
       "Index(['Freq', 'last_update_days_ago', 'web_order', 'gender_male',\n",
       "       'Address_is_res', 'US'],\n",
       "      dtype='object')"
      ]
     },
     "execution_count": 154,
     "metadata": {},
     "output_type": "execute_result"
    }
   ],
   "source": [
    "X.columns"
   ]
  },
  {
   "cell_type": "code",
   "execution_count": 161,
   "metadata": {},
   "outputs": [],
   "source": [
    "from sklearn.model_selection import train_test_split\n",
    "X_train, X_test, y_train, y_test = train_test_split(X, y, test_size=0.2)"
   ]
  },
  {
   "cell_type": "code",
   "execution_count": 162,
   "metadata": {},
   "outputs": [],
   "source": [
    "from sklearn.preprocessing import StandardScaler\n",
    "\n",
    "sc = StandardScaler()\n",
    "X_train = sc.fit_transform(X_train)\n",
    "X_test = sc.transform(X_test)"
   ]
  },
  {
   "cell_type": "code",
   "execution_count": 163,
   "metadata": {},
   "outputs": [
    {
     "data": {
      "text/plain": [
       "LinearRegression()"
      ]
     },
     "execution_count": 163,
     "metadata": {},
     "output_type": "execute_result"
    }
   ],
   "source": [
    "tayko_lm = LinearRegression()\n",
    "tayko_lm.fit(X_train, y_train)"
   ]
  },
  {
   "cell_type": "code",
   "execution_count": 164,
   "metadata": {},
   "outputs": [
    {
     "data": {
      "text/plain": [
       "211.515"
      ]
     },
     "execution_count": 164,
     "metadata": {},
     "output_type": "execute_result"
    }
   ],
   "source": [
    "tayko_lm.intercept_"
   ]
  },
  {
   "cell_type": "code",
   "execution_count": 165,
   "metadata": {},
   "outputs": [
    {
     "data": {
      "text/plain": [
       "array([141.76122701, -26.90405377,   1.32779688,   1.06300062,\n",
       "       -38.36382621,  -6.19707371])"
      ]
     },
     "execution_count": 165,
     "metadata": {},
     "output_type": "execute_result"
    }
   ],
   "source": [
    "tayko_lm.coef_"
   ]
  },
  {
   "cell_type": "code",
   "execution_count": 166,
   "metadata": {},
   "outputs": [
    {
     "name": "stdout",
     "output_type": "stream",
     "text": [
      "Freq 141.76122700957654\n",
      "last_update_days_ago -26.904053766072074\n",
      "web_order 1.3277968792766734\n",
      "gender_male 1.0630006223804385\n",
      "Address_is_res -38.36382620936531\n",
      "US -6.197073707238269\n"
     ]
    }
   ],
   "source": [
    "for i in range(len(X.columns)):\n",
    "    print(X.columns[i], tayko_lm.coef_[i])"
   ]
  },
  {
   "cell_type": "code",
   "execution_count": 167,
   "metadata": {},
   "outputs": [
    {
     "name": "stdout",
     "output_type": "stream",
     "text": [
      "[241.13487261]\n"
     ]
    }
   ],
   "source": [
    "tayko_new = [[3, 1656, 1, 0, 1, 0]]\n",
    "tayko_new = sc.transform(tayko_new)\n",
    "tayko_new_pred = tayko_lm.predict(tayko_new)\n",
    "print(tayko_new_pred)"
   ]
  },
  {
   "cell_type": "code",
   "execution_count": 168,
   "metadata": {},
   "outputs": [],
   "source": [
    "from sklearn.metrics import r2_score, mean_squared_error"
   ]
  },
  {
   "cell_type": "code",
   "execution_count": 169,
   "metadata": {},
   "outputs": [],
   "source": [
    "y_pred_train = tayko_lm.predict(X_train)\n",
    "y_pred_test = tayko_lm.predict(X_test)"
   ]
  },
  {
   "cell_type": "code",
   "execution_count": 170,
   "metadata": {},
   "outputs": [
    {
     "name": "stdout",
     "output_type": "stream",
     "text": [
      "RMSE Train 170.51951009122024\n",
      "RMSE Test 134.52840739909624\n",
      "R2 Train 0.43969826334562645\n",
      "R2 Test 0.483220942302652\n"
     ]
    }
   ],
   "source": [
    "import numpy as np\n",
    "RMSE_train = np.sqrt(mean_squared_error(y_train, y_pred_train))\n",
    "RMSE_test = np.sqrt(mean_squared_error(y_test, y_pred_test))\n",
    "r2_train = r2_score(y_train, y_pred_train)\n",
    "r2_test = r2_score(y_test, y_pred_test)\n",
    "print('RMSE Train', RMSE_train)\n",
    "print('RMSE Test', RMSE_test)\n",
    "print('R2 Train', r2_train)\n",
    "print('R2 Test', r2_test)"
   ]
  },
  {
   "cell_type": "code",
   "execution_count": 172,
   "metadata": {},
   "outputs": [
    {
     "data": {
      "text/plain": [
       "(array([ 1.,  8., 48., 88., 42., 10.,  1.,  1.,  0.,  1.]),\n",
       " array([-458.84207687, -337.17596339, -215.5098499 ,  -93.84373641,\n",
       "          27.82237708,  149.48849057,  271.15460406,  392.82071755,\n",
       "         514.48683104,  636.15294453,  757.81905801]),\n",
       " <BarContainer object of 10 artists>)"
      ]
     },
     "execution_count": 172,
     "metadata": {},
     "output_type": "execute_result"
    },
    {
     "data": {
      "image/png": "[encoded data removed]",
      "text/plain": [
       "<Figure size 864x576 with 1 Axes>"
      ]
     },
     "metadata": {
      "needs_background": "light"
     },
     "output_type": "display_data"
    }
   ],
   "source": [
    "plt.figure(figsize=(12,8))\n",
    "plt.title('Test Data Residuals - predicted vs actual spending')\n",
    "plt.hist(y_test - y_pred_test)"
   ]
  },
  {
   "cell_type": "code",
   "execution_count": 120,
   "metadata": {},
   "outputs": [],
   "source": [
    "from statsmodels.formula.api import ols\n",
    "y = tayko['Spending']\n",
    "X = tayko.drop(['sequence_number', 'Spending', 'Partition'], axis=1)"
   ]
  },
  {
   "cell_type": "code",
   "execution_count": 121,
   "metadata": {},
   "outputs": [],
   "source": [
    "model = ols('Spending ~ US + source_a + source_c + source_b + source_d + source_e + source_m + source_o + source_h + source_r + source_s + source_t + source_u + source_p + source_x + source_w + Freq + last_update_days_ago + first_update_days_ago + web_order + gender_male + Address_is_res + Purchase', data=tayko).fit()"
   ]
  },
  {
   "cell_type": "code",
   "execution_count": 122,
   "metadata": {},
   "outputs": [
    {
     "name": "stdout",
     "output_type": "stream",
     "text": [
      "                            OLS Regression Results                            \n",
      "==============================================================================\n",
      "Dep. Variable:               Spending   R-squared:                       0.466\n",
      "Model:                            OLS   Adj. R-squared:                  0.454\n",
      "Method:                 Least Squares   F-statistic:                     38.75\n",
      "Date:                Tue, 03 Aug 2021   Prob (F-statistic):          9.51e-117\n",
      "Time:                        15:11:07   Log-Likelihood:                -6501.7\n",
      "No. Observations:                1000   AIC:                         1.305e+04\n",
      "Df Residuals:                     977   BIC:                         1.316e+04\n",
      "Df Model:                          22                                         \n",
      "Covariance Type:            nonrobust                                         \n",
      "=========================================================================================\n",
      "                            coef    std err          t      P>|t|      [0.025      0.975]\n",
      "-----------------------------------------------------------------------------------------\n",
      "Intercept                39.5061     26.055      1.516      0.130     -11.624      90.636\n",
      "US                      -14.7261     14.515     -1.015      0.311     -43.210      13.758\n",
      "source_a                 63.7204     48.923      1.302      0.193     -32.287     159.727\n",
      "source_c                 -8.5009     53.306     -0.159      0.873    -113.107      96.106\n",
      "source_b                 19.4709     55.011      0.354      0.723     -88.483     127.425\n",
      "source_d                 11.1014     53.415      0.208      0.835     -93.719     115.922\n",
      "source_e                 11.1575     49.489      0.225      0.822     -85.960     108.275\n",
      "source_m                -21.6410     60.730     -0.356      0.722    -140.817      97.535\n",
      "source_o                 32.9745     65.951      0.500      0.617     -96.448     162.397\n",
      "source_h                -39.2350     68.064     -0.576      0.564    -172.804      94.334\n",
      "source_r                 90.0216     51.125      1.761      0.079     -10.306     190.349\n",
      "source_s                 10.6674     55.638      0.192      0.848     -98.516     119.851\n",
      "source_t                 18.2792     56.510      0.323      0.746     -92.616     129.174\n",
      "source_u                 49.9318     49.006      1.019      0.309     -46.238     146.102\n",
      "source_p                  4.4935     68.566      0.066      0.948    -130.059     139.046\n",
      "source_x                 18.8622     61.859      0.305      0.760    -102.530     140.254\n",
      "source_w                 21.2470     50.193      0.423      0.672     -77.252     119.746\n",
      "Freq                     91.2251      4.617     19.760      0.000      82.166     100.285\n",
      "last_update_days_ago     -0.0123      0.009     -1.402      0.161      -0.030       0.005\n",
      "first_update_days_ago    -0.0155      0.010     -1.500      0.134      -0.036       0.005\n",
      "web_order                -2.3580     10.416     -0.226      0.821     -22.799      18.083\n",
      "gender_male              -4.6268     10.434     -0.443      0.658     -25.103      15.849\n",
      "Address_is_res          -83.0771     12.876     -6.452      0.000    -108.346     -57.809\n",
      "Purchase                 39.5061     26.055      1.516      0.130     -11.624      90.636\n",
      "==============================================================================\n",
      "Omnibus:                      675.530   Durbin-Watson:                   2.050\n",
      "Prob(Omnibus):                  0.000   Jarque-Bera (JB):            11581.052\n",
      "Skew:                           2.861   Prob(JB):                         0.00\n",
      "Kurtosis:                      18.659   Cond. No.                     1.36e+18\n",
      "==============================================================================\n",
      "\n",
      "Notes:\n",
      "[1] Standard Errors assume that the covariance matrix of the errors is correctly specified.\n",
      "[2] The smallest eigenvalue is 6.46e-27. This might indicate that there are\n",
      "strong multicollinearity problems or that the design matrix is singular.\n"
     ]
    }
   ],
   "source": [
    "print(model.summary())"
   ]
  },
  {
   "cell_type": "code",
   "execution_count": 123,
   "metadata": {},
   "outputs": [
    {
     "name": "stdout",
     "output_type": "stream",
     "text": [
      "                                 OLS Regression Results                                \n",
      "=======================================================================================\n",
      "Dep. Variable:               Spending   R-squared (uncentered):                   0.695\n",
      "Model:                            OLS   Adj. R-squared (uncentered):              0.695\n",
      "Method:                 Least Squares   F-statistic:                              1139.\n",
      "Date:                Tue, 03 Aug 2021   Prob (F-statistic):                   2.87e-258\n",
      "Time:                        15:11:07   Log-Likelihood:                         -6533.0\n",
      "No. Observations:                1000   AIC:                                  1.307e+04\n",
      "Df Residuals:                     998   BIC:                                  1.308e+04\n",
      "Df Model:                           2                                                  \n",
      "Covariance Type:            nonrobust                                                  \n",
      "==================================================================================\n",
      "                     coef    std err          t      P>|t|      [0.025      0.975]\n",
      "----------------------------------------------------------------------------------\n",
      "Freq             101.1696      2.261     44.754      0.000      96.734     105.606\n",
      "Address_is_res   -72.5568     12.544     -5.784      0.000     -97.173     -47.941\n",
      "==============================================================================\n",
      "Omnibus:                      656.204   Durbin-Watson:                   2.055\n",
      "Prob(Omnibus):                  0.000   Jarque-Bera (JB):            11267.438\n",
      "Skew:                           2.741   Prob(JB):                         0.00\n",
      "Kurtosis:                      18.503   Cond. No.                         6.29\n",
      "==============================================================================\n",
      "\n",
      "Notes:\n",
      "[1] R² is computed without centering (uncentered) since the model does not contain a constant.\n",
      "[2] Standard Errors assume that the covariance matrix of the errors is correctly specified.\n"
     ]
    }
   ],
   "source": [
    "model_2 = ols('Spending ~ Freq + Address_is_res - 1', data=tayko).fit()\n",
    "print(model_2.summary())"
   ]
  },
  {
   "cell_type": "code",
   "execution_count": 124,
   "metadata": {},
   "outputs": [
    {
     "name": "stdout",
     "output_type": "stream",
     "text": [
      "                            OLS Regression Results                            \n",
      "==============================================================================\n",
      "Dep. Variable:               Spending   R-squared:                       0.439\n",
      "Model:                            OLS   Adj. R-squared:                  0.438\n",
      "Method:                 Least Squares   F-statistic:                     390.0\n",
      "Date:                Tue, 03 Aug 2021   Prob (F-statistic):          7.61e-126\n",
      "Time:                        15:11:07   Log-Likelihood:                -6526.5\n",
      "No. Observations:                1000   AIC:                         1.306e+04\n",
      "Df Residuals:                     997   BIC:                         1.307e+04\n",
      "Df Model:                           2                                         \n",
      "Covariance Type:            nonrobust                                         \n",
      "==================================================================================\n",
      "                     coef    std err          t      P>|t|      [0.025      0.975]\n",
      "----------------------------------------------------------------------------------\n",
      "Intercept         31.6761      8.763      3.615      0.000      14.480      48.872\n",
      "Freq              92.3534      3.316     27.849      0.000      85.846      98.861\n",
      "Address_is_res   -81.8169     12.730     -6.427      0.000    -106.797     -56.837\n",
      "==============================================================================\n",
      "Omnibus:                      688.845   Durbin-Watson:                   2.060\n",
      "Prob(Omnibus):                  0.000   Jarque-Bera (JB):            12011.734\n",
      "Skew:                           2.937   Prob(JB):                         0.00\n",
      "Kurtosis:                      18.931   Cond. No.                         6.81\n",
      "==============================================================================\n",
      "\n",
      "Notes:\n",
      "[1] Standard Errors assume that the covariance matrix of the errors is correctly specified.\n"
     ]
    }
   ],
   "source": [
    "model_3 = ols('Spending ~ Freq + Address_is_res', data=tayko).fit()\n",
    "print(model_3.summary())"
   ]
  },
  {
   "cell_type": "code",
   "execution_count": 125,
   "metadata": {},
   "outputs": [
    {
     "name": "stdout",
     "output_type": "stream",
     "text": [
      "0.31433040263952816\n"
     ]
    }
   ],
   "source": [
    "from sklearn.neural_network import MLPRegressor\n",
    "\n",
    "clf = MLPRegressor(hidden_layer_sizes=[75, 75, 75], max_iter = 10000, activation = 'relu')\n",
    "clf.fit(X_train, y_train)\n",
    "score = clf.score(X_test, y_test)\n",
    "print(score)"
   ]
  },
  {
   "cell_type": "code",
   "execution_count": 126,
   "metadata": {},
   "outputs": [
    {
     "name": "stdout",
     "output_type": "stream",
     "text": [
      "0.2023378378246603\n"
     ]
    }
   ],
   "source": [
    "clf = MLPRegressor(hidden_layer_sizes=[50, 50, 50], max_iter = 10000, activation = 'relu', learning_rate_init = 0.01)\n",
    "clf.fit(X_train, y_train)\n",
    "score = clf.score(X_test, y_test)\n",
    "print(score)"
   ]
  },
  {
   "cell_type": "code",
   "execution_count": 127,
   "metadata": {},
   "outputs": [
    {
     "name": "stdout",
     "output_type": "stream",
     "text": [
      "0.2413321821987876\n"
     ]
    }
   ],
   "source": [
    "clf = MLPRegressor(hidden_layer_sizes=[10, 10], max_iter = 10000, activation = 'relu', learning_rate_init = 0.01)\n",
    "clf.fit(X_train, y_train)\n",
    "score = clf.score(X_test, y_test)\n",
    "print(score)"
   ]
  },
  {
   "cell_type": "code",
   "execution_count": null,
   "metadata": {},
   "outputs": [],
   "source": []
  }
 ],
 "metadata": {
  "kernelspec": {
   "display_name": "Python 3",
   "language": "python",
   "name": "python3"
  },
  "language_info": {
   "codemirror_mode": {
    "name": "ipython",
    "version": 3
   },
   "file_extension": ".py",
   "mimetype": "text/x-python",
   "name": "python",
   "nbconvert_exporter": "python",
   "pygments_lexer": "ipython3",
   "version": "3.8.6"
  }
 },
 "nbformat": 4,
 "nbformat_minor": 4
}
