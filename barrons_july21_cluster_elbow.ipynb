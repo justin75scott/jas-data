{
 "cells": [
  {
   "cell_type": "code",
   "execution_count": 1,
   "metadata": {},
   "outputs": [],
   "source": [
    "import pandas as pd\n",
    "import numpy as np"
   ]
  },
  {
   "cell_type": "code",
   "execution_count": 2,
   "metadata": {},
   "outputs": [
    {
     "data": {
      "text/plain": [
       "(397, 9)"
      ]
     },
     "execution_count": 2,
     "metadata": {},
     "output_type": "execute_result"
    }
   ],
   "source": [
    "barrons = pd.read_csv('barrons_073021.csv')\n",
    "barrons.shape"
   ]
  },
  {
   "cell_type": "code",
   "execution_count": 3,
   "metadata": {},
   "outputs": [],
   "source": [
    "from sklearn.cluster import KMeans"
   ]
  },
  {
   "cell_type": "code",
   "execution_count": 4,
   "metadata": {},
   "outputs": [
    {
     "data": {
      "text/plain": [
       "(397, 4)"
      ]
     },
     "execution_count": 4,
     "metadata": {},
     "output_type": "execute_result"
    }
   ],
   "source": [
    "barrons_cluster = barrons[['Fundamental Grade', 'Sentiment Score', 'MTD', 'YTD']]\n",
    "barrons_cluster.shape"
   ]
  },
  {
   "cell_type": "code",
   "execution_count": 5,
   "metadata": {},
   "outputs": [],
   "source": [
    "from sklearn.preprocessing import StandardScaler\n",
    "scaler=StandardScaler()\n",
    "barrons_scaled = scaler.fit_transform(barrons_cluster)"
   ]
  },
  {
   "cell_type": "code",
   "execution_count": 6,
   "metadata": {},
   "outputs": [],
   "source": [
    "kmeans = KMeans(n_clusters=20).fit(barrons_scaled)"
   ]
  },
  {
   "cell_type": "code",
   "execution_count": 7,
   "metadata": {},
   "outputs": [
    {
     "data": {
      "text/plain": [
       "array([[-0.4676869 ,  0.59245316, -0.27678192, -0.39746316],\n",
       "       [ 0.19228782, -2.40596141, -2.92733021, -1.62361444],\n",
       "       [ 0.73299253,  0.72420122,  0.39896887,  0.13916293],\n",
       "       [ 0.80301151,  0.05726674, -0.42634406, -0.3308053 ],\n",
       "       [ 0.53182938, -1.05770907, -1.01980608, -0.66612065],\n",
       "       [-1.68479745,  0.59550996, -0.14962961,  0.03812208],\n",
       "       [ 0.45151111,  0.47170958,  1.8660015 ,  3.18893091],\n",
       "       [-3.45132698, -2.7140868 , -1.39065896, -1.58201277],\n",
       "       [ 0.57907543,  0.73398298,  1.78107528,  0.11424796],\n",
       "       [-0.3512421 ,  0.73598379,  0.80663572,  0.63240665],\n",
       "       [ 0.01619904, -0.85368269,  0.44161104, -0.31744682],\n",
       "       [-1.11255012, -1.02433023, -0.44624154, -1.00177986],\n",
       "       [ 0.91294746,  0.9118887 , -0.03606135,  3.16836023],\n",
       "       [-0.77359309,  0.30247405,  0.74328749, -0.60446239],\n",
       "       [ 1.00428981,  0.20209987, -0.26684201,  1.66142164],\n",
       "       [-0.00870599, -0.33676457, -0.59755552,  0.45837915],\n",
       "       [ 0.96834576,  1.02031518,  1.26373824,  1.1922004 ],\n",
       "       [ 0.94365739, -0.12895151, -2.22887762,  0.21049858],\n",
       "       [-0.08551891, -2.47198828, -0.2920601 , -1.21280773],\n",
       "       [ 1.72872913, -1.33485889,  1.64579773, -1.12091318]])"
      ]
     },
     "execution_count": 7,
     "metadata": {},
     "output_type": "execute_result"
    }
   ],
   "source": [
    "kmeans.cluster_centers_"
   ]
  },
  {
   "cell_type": "code",
   "execution_count": 8,
   "metadata": {},
   "outputs": [
    {
     "data": {
      "text/plain": [
       "array([17, 14,  2,  1, 19, 19, 17, 14, 14, 12, 16,  4, 14,  8, 12,  2, 16,\n",
       "       16, 14,  2,  3,  8, 17, 19, 17, 17, 14, 10, 16,  6,  2,  2,  2, 12,\n",
       "        3,  3,  4,  2,  2,  3, 16,  4,  2, 16, 18,  3,  3,  3,  2,  2, 10,\n",
       "       16,  3,  2, 14,  3,  8,  4, 17,  3,  3, 15,  6,  2,  3, 16,  2,  3,\n",
       "       17,  2,  8,  2,  2,  4,  3,  3,  2, 17, 14, 15, 16,  2, 16,  2, 14,\n",
       "       15,  3,  4, 16,  8,  4,  3,  3,  3,  2, 16,  3, 16,  2,  4, 16,  3,\n",
       "        4,  3,  3,  3,  8,  2, 14,  4,  2,  8,  4, 18, 16,  2,  4, 14,  6,\n",
       "        3,  4,  2, 14, 15,  4, 15,  2,  1,  2, 14, 16, 15,  4,  2,  4, 18,\n",
       "        3,  8, 15, 12,  4,  2,  2,  2,  2, 16,  4,  2,  9,  3,  6,  2,  2,\n",
       "        4,  3, 15,  2,  3, 10,  2,  8,  2,  2,  9, 15, 10, 17, 15, 15,  3,\n",
       "        4,  2,  8,  8,  8, 10, 12,  8, 12,  2,  2,  2, 15,  4, 10, 17, 18,\n",
       "       15,  9,  4,  4,  2,  3, 18, 15, 10,  4, 15, 10, 14, 10,  4,  0, 15,\n",
       "       18, 15,  8,  8,  0, 17,  0, 17,  0,  4,  0,  0,  0,  9, 15,  9,  9,\n",
       "       10, 14, 11, 15,  4, 15,  0, 13,  9,  9,  0,  9,  0,  9, 13,  9,  9,\n",
       "        1,  6, 10,  9,  9,  1,  0, 18,  9,  0, 15, 15, 13,  0, 11, 15, 10,\n",
       "        9, 15,  6,  9,  9, 15, 13, 15, 10, 13,  0,  9, 13, 13,  0,  9,  9,\n",
       "        0,  0,  0, 11, 11, 13, 13,  0, 13,  9, 11, 10, 10, 13,  9, 11, 11,\n",
       "        0,  9,  0,  9,  9,  0,  0,  9,  0, 18,  0, 10, 13,  0,  9, 11, 13,\n",
       "        9, 11,  0, 11,  9,  0, 18,  0, 15, 13,  0, 11, 18, 13, 13,  9, 13,\n",
       "       15, 13,  5,  0, 13, 13, 10,  0, 13,  0,  9, 11, 13, 15,  0, 13, 15,\n",
       "       11, 11, 13, 15,  5,  9,  5,  1, 11, 11, 13, 18, 11, 13, 13, 13,  0,\n",
       "       13, 13, 11,  5,  0,  5,  5,  5,  5,  5, 11, 11, 11, 13,  5,  5, 11,\n",
       "       11,  5, 11, 13, 13,  5, 11,  5,  7,  5, 11, 11,  5, 11,  5, 11,  5,\n",
       "        7,  5,  5,  7,  7,  7])"
      ]
     },
     "execution_count": 8,
     "metadata": {},
     "output_type": "execute_result"
    }
   ],
   "source": [
    "kmeans.labels_"
   ]
  },
  {
   "cell_type": "code",
   "execution_count": 9,
   "metadata": {
    "scrolled": true
   },
   "outputs": [
    {
     "data": {
      "text/plain": [
       "Int64Index([145], dtype='int64')"
      ]
     },
     "execution_count": 9,
     "metadata": {},
     "output_type": "execute_result"
    }
   ],
   "source": [
    "barrons.index[barrons['Ticker'] == 'HCA']"
   ]
  },
  {
   "cell_type": "code",
   "execution_count": 10,
   "metadata": {},
   "outputs": [
    {
     "data": {
      "text/html": [
       "<div>\n",
       "<style scoped>\n",
       "    .dataframe tbody tr th:only-of-type {\n",
       "        vertical-align: middle;\n",
       "    }\n",
       "\n",
       "    .dataframe tbody tr th {\n",
       "        vertical-align: top;\n",
       "    }\n",
       "\n",
       "    .dataframe thead th {\n",
       "        text-align: right;\n",
       "    }\n",
       "</style>\n",
       "<table border=\"1\" class=\"dataframe\">\n",
       "  <thead>\n",
       "    <tr style=\"text-align: right;\">\n",
       "      <th></th>\n",
       "      <th>Ticker</th>\n",
       "      <th>Fundamental Grade</th>\n",
       "      <th>Sentiment Score</th>\n",
       "      <th>Company Name</th>\n",
       "      <th>Market Cap</th>\n",
       "      <th>MTD</th>\n",
       "      <th>QTD</th>\n",
       "      <th>YTD</th>\n",
       "      <th>Last Close</th>\n",
       "    </tr>\n",
       "  </thead>\n",
       "  <tbody>\n",
       "    <tr>\n",
       "      <th>145</th>\n",
       "      <td>HCA</td>\n",
       "      <td>73.7</td>\n",
       "      <td>9.9</td>\n",
       "      <td>HCA Healthcare Inc</td>\n",
       "      <td>83526.7</td>\n",
       "      <td>20.05</td>\n",
       "      <td>20.05</td>\n",
       "      <td>50.92</td>\n",
       "      <td>248.2</td>\n",
       "    </tr>\n",
       "  </tbody>\n",
       "</table>\n",
       "</div>"
      ],
      "text/plain": [
       "    Ticker  Fundamental Grade  Sentiment Score        Company Name  \\\n",
       "145    HCA               73.7              9.9  HCA Healthcare Inc   \n",
       "\n",
       "     Market Cap    MTD    QTD    YTD  Last Close  \n",
       "145     83526.7  20.05  20.05  50.92       248.2  "
      ]
     },
     "execution_count": 10,
     "metadata": {},
     "output_type": "execute_result"
    }
   ],
   "source": [
    "barrons[barrons['Ticker'] == 'HCA']"
   ]
  },
  {
   "cell_type": "code",
   "execution_count": 11,
   "metadata": {},
   "outputs": [
    {
     "data": {
      "text/plain": [
       "16"
      ]
     },
     "execution_count": 11,
     "metadata": {},
     "output_type": "execute_result"
    }
   ],
   "source": [
    "kmeans.labels_[145]"
   ]
  },
  {
   "cell_type": "code",
   "execution_count": 12,
   "metadata": {},
   "outputs": [
    {
     "name": "stdout",
     "output_type": "stream",
     "text": [
      "GOOGL Alphabet Inc. Class A\n",
      "LH Laboratory Corporation of\n",
      "DECK Deckers Outdoor Corporati\n",
      "HZO MarineMax, Inc.\n",
      "MHO M/I Homes, Inc.\n",
      "HLI Houlihan Lokey, Inc. Clas\n",
      "TPX Tempur Sealy Internationa\n",
      "CCS Century Communities, Inc.\n",
      "CRMT America's Car-Mart, Inc.\n",
      "WST West Pharmaceutical Servi\n",
      "TGT Target Corporation\n",
      "DHR Danaher Corporation\n",
      "LEN.B Lennar Corporation Class \n",
      "SSTK Shutterstock, Inc.\n",
      "ONEW OneWater Marine Inc Class\n",
      "WAT Waters Corporation\n",
      "HCA HCA Healthcare Inc\n"
     ]
    }
   ],
   "source": [
    "for i in range(len(barrons)):\n",
    "    if kmeans.labels_[i] == kmeans.labels_[145]:\n",
    "        print(barrons['Ticker'][i], barrons['Company Name'][i])"
   ]
  },
  {
   "cell_type": "code",
   "execution_count": 13,
   "metadata": {},
   "outputs": [
    {
     "data": {
      "text/plain": [
       "Int64Index([243], dtype='int64')"
      ]
     },
     "execution_count": 13,
     "metadata": {},
     "output_type": "execute_result"
    }
   ],
   "source": [
    "barrons.index[barrons['Ticker'] == 'SAM']"
   ]
  },
  {
   "cell_type": "code",
   "execution_count": 14,
   "metadata": {},
   "outputs": [
    {
     "data": {
      "text/plain": [
       "1"
      ]
     },
     "execution_count": 14,
     "metadata": {},
     "output_type": "execute_result"
    }
   ],
   "source": [
    "kmeans.labels_[243]"
   ]
  },
  {
   "cell_type": "code",
   "execution_count": 15,
   "metadata": {},
   "outputs": [
    {
     "name": "stdout",
     "output_type": "stream",
     "text": [
      "NLS Nautilus Inc\n",
      "SAGE SAGE Therapeutics, Inc.\n",
      "HOMB Home BancShares, Inc.\n",
      "SAM Boston Beer Company, Inc.\n",
      "W Wayfair, Inc. Class A\n"
     ]
    }
   ],
   "source": [
    "for i in range(len(barrons)):\n",
    "    if kmeans.labels_[i] == kmeans.labels_[243]:\n",
    "        print(barrons['Ticker'][i], barrons['Company Name'][i])"
   ]
  },
  {
   "cell_type": "code",
   "execution_count": 16,
   "metadata": {},
   "outputs": [
    {
     "data": {
      "text/plain": [
       "20"
      ]
     },
     "execution_count": 16,
     "metadata": {},
     "output_type": "execute_result"
    }
   ],
   "source": [
    "kmeans.n_clusters"
   ]
  },
  {
   "cell_type": "code",
   "execution_count": 17,
   "metadata": {},
   "outputs": [
    {
     "name": "stdout",
     "output_type": "stream",
     "text": [
      "Cluster # 0\n",
      "Fundamental Grade Avg 64.76\n",
      "Sentiment Score Avg 8.07\n",
      "Month to Date Avg -1.21\n",
      "Year to Date Avg 11.86\n",
      "\n",
      "Cluster # 1\n",
      "Fundamental Grade Avg 71.74\n",
      "Sentiment Score Avg 2.62\n",
      "Month to Date Avg -21.09\n",
      "Year to Date Avg -16.55\n",
      "\n",
      "Cluster # 2\n",
      "Fundamental Grade Avg 77.46\n",
      "Sentiment Score Avg 8.31\n",
      "Month to Date Avg 3.86\n",
      "Year to Date Avg 24.30\n",
      "\n",
      "Cluster # 3\n",
      "Fundamental Grade Avg 78.20\n",
      "Sentiment Score Avg 7.10\n",
      "Month to Date Avg -2.33\n",
      "Year to Date Avg 13.41\n",
      "\n",
      "Cluster # 4\n",
      "Fundamental Grade Avg 75.33\n",
      "Sentiment Score Avg 5.07\n",
      "Month to Date Avg -6.78\n",
      "Year to Date Avg 5.64\n",
      "\n",
      "Cluster # 5\n",
      "Fundamental Grade Avg 51.88\n",
      "Sentiment Score Avg 8.07\n",
      "Month to Date Avg -0.25\n",
      "Year to Date Avg 21.95\n",
      "\n",
      "Cluster # 6\n",
      "Fundamental Grade Avg 74.48\n",
      "Sentiment Score Avg 7.85\n",
      "Month to Date Avg 14.87\n",
      "Year to Date Avg 94.96\n",
      "\n",
      "Cluster # 7\n",
      "Fundamental Grade Avg 33.18\n",
      "Sentiment Score Avg 2.06\n",
      "Month to Date Avg -9.56\n",
      "Year to Date Avg -15.59\n",
      "\n",
      "Cluster # 8\n",
      "Fundamental Grade Avg 75.83\n",
      "Sentiment Score Avg 8.33\n",
      "Month to Date Avg 14.23\n",
      "Year to Date Avg 23.72\n",
      "\n",
      "Cluster # 9\n",
      "Fundamental Grade Avg 65.99\n",
      "Sentiment Score Avg 8.33\n",
      "Month to Date Avg 6.92\n",
      "Year to Date Avg 35.72\n",
      "\n",
      "Cluster # 10\n",
      "Fundamental Grade Avg 69.88\n",
      "Sentiment Score Avg 5.44\n",
      "Month to Date Avg 4.18\n",
      "Year to Date Avg 13.71\n",
      "\n",
      "Cluster # 11\n",
      "Fundamental Grade Avg 57.93\n",
      "Sentiment Score Avg 5.13\n",
      "Month to Date Avg -2.48\n",
      "Year to Date Avg -2.14\n",
      "\n",
      "Cluster # 12\n",
      "Fundamental Grade Avg 79.37\n",
      "Sentiment Score Avg 8.65\n",
      "Month to Date Avg 0.60\n",
      "Year to Date Avg 94.49\n",
      "\n",
      "Cluster # 13\n",
      "Fundamental Grade Avg 61.52\n",
      "Sentiment Score Avg 7.54\n",
      "Month to Date Avg 6.44\n",
      "Year to Date Avg 7.06\n",
      "\n",
      "Cluster # 14\n",
      "Fundamental Grade Avg 80.33\n",
      "Sentiment Score Avg 7.36\n",
      "Month to Date Avg -1.13\n",
      "Year to Date Avg 59.57\n",
      "\n",
      "Cluster # 15\n",
      "Fundamental Grade Avg 69.61\n",
      "Sentiment Score Avg 6.38\n",
      "Month to Date Avg -3.61\n",
      "Year to Date Avg 31.69\n",
      "\n",
      "Cluster # 16\n",
      "Fundamental Grade Avg 79.95\n",
      "Sentiment Score Avg 8.85\n",
      "Month to Date Avg 10.35\n",
      "Year to Date Avg 48.70\n",
      "\n",
      "Cluster # 17\n",
      "Fundamental Grade Avg 79.69\n",
      "Sentiment Score Avg 6.76\n",
      "Month to Date Avg -15.85\n",
      "Year to Date Avg 25.95\n",
      "\n",
      "Cluster # 18\n",
      "Fundamental Grade Avg 68.80\n",
      "Sentiment Score Avg 2.50\n",
      "Month to Date Avg -1.32\n",
      "Year to Date Avg -7.03\n",
      "\n",
      "Cluster # 19\n",
      "Fundamental Grade Avg 88.00\n",
      "Sentiment Score Avg 4.57\n",
      "Month to Date Avg 13.21\n",
      "Year to Date Avg -4.90\n",
      "\n"
     ]
    }
   ],
   "source": [
    "cluster_data = pd.DataFrame(columns = ['fg', 'ss', 'mtd', 'ytd'])\n",
    "\n",
    "for i in range(kmeans.n_clusters):\n",
    "    fg = 0\n",
    "    ss = 0 \n",
    "    mtd = 0 \n",
    "    ytd = 0 \n",
    "    count = 0\n",
    "    for j in range(len(barrons)):\n",
    "        if kmeans.labels_[j] == i:\n",
    "            fg += barrons['Fundamental Grade'][j]\n",
    "            ss += barrons['Sentiment Score'][j]\n",
    "            mtd += barrons['MTD'][j]\n",
    "            ytd += barrons['YTD'][j]\n",
    "            count += 1\n",
    "    print('Cluster #', i)\n",
    "    print('Fundamental Grade Avg', '{:.2f}'.format(fg / count))\n",
    "    print('Sentiment Score Avg', '{:.2f}'.format(ss / count))\n",
    "    print('Month to Date Avg', '{:.2f}'.format(mtd / count))\n",
    "    print('Year to Date Avg', '{:.2f}'.format(ytd / count))\n",
    "    print('')\n",
    "    cluster_data = cluster_data.append({'fg': fg / count, 'ss': ss / count, 'mtd': mtd / count, 'ytd': ytd / count}, ignore_index=True)"
   ]
  },
  {
   "cell_type": "code",
   "execution_count": 18,
   "metadata": {},
   "outputs": [
    {
     "data": {
      "text/html": [
       "<div>\n",
       "<style scoped>\n",
       "    .dataframe tbody tr th:only-of-type {\n",
       "        vertical-align: middle;\n",
       "    }\n",
       "\n",
       "    .dataframe tbody tr th {\n",
       "        vertical-align: top;\n",
       "    }\n",
       "\n",
       "    .dataframe thead th {\n",
       "        text-align: right;\n",
       "    }\n",
       "</style>\n",
       "<table border=\"1\" class=\"dataframe\">\n",
       "  <thead>\n",
       "    <tr style=\"text-align: right;\">\n",
       "      <th></th>\n",
       "      <th>fg</th>\n",
       "      <th>ss</th>\n",
       "      <th>mtd</th>\n",
       "      <th>ytd</th>\n",
       "    </tr>\n",
       "  </thead>\n",
       "  <tbody>\n",
       "    <tr>\n",
       "      <th>0</th>\n",
       "      <td>64.755556</td>\n",
       "      <td>8.069444</td>\n",
       "      <td>-1.207222</td>\n",
       "      <td>11.860556</td>\n",
       "    </tr>\n",
       "    <tr>\n",
       "      <th>1</th>\n",
       "      <td>71.740000</td>\n",
       "      <td>2.620000</td>\n",
       "      <td>-21.088000</td>\n",
       "      <td>-16.552000</td>\n",
       "    </tr>\n",
       "    <tr>\n",
       "      <th>2</th>\n",
       "      <td>77.462222</td>\n",
       "      <td>8.308889</td>\n",
       "      <td>3.861333</td>\n",
       "      <td>24.295333</td>\n",
       "    </tr>\n",
       "    <tr>\n",
       "      <th>3</th>\n",
       "      <td>78.203226</td>\n",
       "      <td>7.096774</td>\n",
       "      <td>-2.329032</td>\n",
       "      <td>13.405161</td>\n",
       "    </tr>\n",
       "    <tr>\n",
       "      <th>4</th>\n",
       "      <td>75.333333</td>\n",
       "      <td>5.070370</td>\n",
       "      <td>-6.780370</td>\n",
       "      <td>5.635185</td>\n",
       "    </tr>\n",
       "    <tr>\n",
       "      <th>5</th>\n",
       "      <td>51.875000</td>\n",
       "      <td>8.075000</td>\n",
       "      <td>-0.253500</td>\n",
       "      <td>21.954000</td>\n",
       "    </tr>\n",
       "    <tr>\n",
       "      <th>6</th>\n",
       "      <td>74.483333</td>\n",
       "      <td>7.850000</td>\n",
       "      <td>14.865000</td>\n",
       "      <td>94.965000</td>\n",
       "    </tr>\n",
       "    <tr>\n",
       "      <th>7</th>\n",
       "      <td>33.180000</td>\n",
       "      <td>2.060000</td>\n",
       "      <td>-9.562000</td>\n",
       "      <td>-15.588000</td>\n",
       "    </tr>\n",
       "    <tr>\n",
       "      <th>8</th>\n",
       "      <td>75.833333</td>\n",
       "      <td>8.326667</td>\n",
       "      <td>14.228000</td>\n",
       "      <td>23.718000</td>\n",
       "    </tr>\n",
       "    <tr>\n",
       "      <th>9</th>\n",
       "      <td>65.987879</td>\n",
       "      <td>8.330303</td>\n",
       "      <td>6.919091</td>\n",
       "      <td>35.724848</td>\n",
       "    </tr>\n",
       "    <tr>\n",
       "      <th>10</th>\n",
       "      <td>69.876471</td>\n",
       "      <td>5.441176</td>\n",
       "      <td>4.181176</td>\n",
       "      <td>13.714706</td>\n",
       "    </tr>\n",
       "    <tr>\n",
       "      <th>11</th>\n",
       "      <td>57.931034</td>\n",
       "      <td>5.131034</td>\n",
       "      <td>-2.478276</td>\n",
       "      <td>-2.142759</td>\n",
       "    </tr>\n",
       "    <tr>\n",
       "      <th>12</th>\n",
       "      <td>79.366667</td>\n",
       "      <td>8.650000</td>\n",
       "      <td>0.598333</td>\n",
       "      <td>94.488333</td>\n",
       "    </tr>\n",
       "    <tr>\n",
       "      <th>13</th>\n",
       "      <td>61.518182</td>\n",
       "      <td>7.542424</td>\n",
       "      <td>6.443939</td>\n",
       "      <td>7.063939</td>\n",
       "    </tr>\n",
       "    <tr>\n",
       "      <th>14</th>\n",
       "      <td>80.333333</td>\n",
       "      <td>7.360000</td>\n",
       "      <td>-1.132667</td>\n",
       "      <td>59.569333</td>\n",
       "    </tr>\n",
       "    <tr>\n",
       "      <th>15</th>\n",
       "      <td>69.612903</td>\n",
       "      <td>6.380645</td>\n",
       "      <td>-3.613226</td>\n",
       "      <td>31.692258</td>\n",
       "    </tr>\n",
       "    <tr>\n",
       "      <th>16</th>\n",
       "      <td>79.952941</td>\n",
       "      <td>8.847059</td>\n",
       "      <td>10.347647</td>\n",
       "      <td>48.696471</td>\n",
       "    </tr>\n",
       "    <tr>\n",
       "      <th>17</th>\n",
       "      <td>79.691667</td>\n",
       "      <td>6.758333</td>\n",
       "      <td>-15.849167</td>\n",
       "      <td>25.948333</td>\n",
       "    </tr>\n",
       "    <tr>\n",
       "      <th>18</th>\n",
       "      <td>68.800000</td>\n",
       "      <td>2.500000</td>\n",
       "      <td>-1.321818</td>\n",
       "      <td>-7.032727</td>\n",
       "    </tr>\n",
       "    <tr>\n",
       "      <th>19</th>\n",
       "      <td>88.000000</td>\n",
       "      <td>4.566667</td>\n",
       "      <td>13.213333</td>\n",
       "      <td>-4.903333</td>\n",
       "    </tr>\n",
       "  </tbody>\n",
       "</table>\n",
       "</div>"
      ],
      "text/plain": [
       "           fg        ss        mtd        ytd\n",
       "0   64.755556  8.069444  -1.207222  11.860556\n",
       "1   71.740000  2.620000 -21.088000 -16.552000\n",
       "2   77.462222  8.308889   3.861333  24.295333\n",
       "3   78.203226  7.096774  -2.329032  13.405161\n",
       "4   75.333333  5.070370  -6.780370   5.635185\n",
       "5   51.875000  8.075000  -0.253500  21.954000\n",
       "6   74.483333  7.850000  14.865000  94.965000\n",
       "7   33.180000  2.060000  -9.562000 -15.588000\n",
       "8   75.833333  8.326667  14.228000  23.718000\n",
       "9   65.987879  8.330303   6.919091  35.724848\n",
       "10  69.876471  5.441176   4.181176  13.714706\n",
       "11  57.931034  5.131034  -2.478276  -2.142759\n",
       "12  79.366667  8.650000   0.598333  94.488333\n",
       "13  61.518182  7.542424   6.443939   7.063939\n",
       "14  80.333333  7.360000  -1.132667  59.569333\n",
       "15  69.612903  6.380645  -3.613226  31.692258\n",
       "16  79.952941  8.847059  10.347647  48.696471\n",
       "17  79.691667  6.758333 -15.849167  25.948333\n",
       "18  68.800000  2.500000  -1.321818  -7.032727\n",
       "19  88.000000  4.566667  13.213333  -4.903333"
      ]
     },
     "execution_count": 18,
     "metadata": {},
     "output_type": "execute_result"
    }
   ],
   "source": [
    "cluster_data"
   ]
  },
  {
   "cell_type": "code",
   "execution_count": 19,
   "metadata": {},
   "outputs": [
    {
     "data": {
      "text/html": [
       "<div>\n",
       "<style scoped>\n",
       "    .dataframe tbody tr th:only-of-type {\n",
       "        vertical-align: middle;\n",
       "    }\n",
       "\n",
       "    .dataframe tbody tr th {\n",
       "        vertical-align: top;\n",
       "    }\n",
       "\n",
       "    .dataframe thead th {\n",
       "        text-align: right;\n",
       "    }\n",
       "</style>\n",
       "<table border=\"1\" class=\"dataframe\">\n",
       "  <thead>\n",
       "    <tr style=\"text-align: right;\">\n",
       "      <th></th>\n",
       "      <th>fg</th>\n",
       "      <th>ss</th>\n",
       "      <th>mtd</th>\n",
       "      <th>ytd</th>\n",
       "    </tr>\n",
       "  </thead>\n",
       "  <tbody>\n",
       "    <tr>\n",
       "      <th>19</th>\n",
       "      <td>88.000000</td>\n",
       "      <td>4.566667</td>\n",
       "      <td>13.213333</td>\n",
       "      <td>-4.903333</td>\n",
       "    </tr>\n",
       "    <tr>\n",
       "      <th>14</th>\n",
       "      <td>80.333333</td>\n",
       "      <td>7.360000</td>\n",
       "      <td>-1.132667</td>\n",
       "      <td>59.569333</td>\n",
       "    </tr>\n",
       "    <tr>\n",
       "      <th>16</th>\n",
       "      <td>79.952941</td>\n",
       "      <td>8.847059</td>\n",
       "      <td>10.347647</td>\n",
       "      <td>48.696471</td>\n",
       "    </tr>\n",
       "    <tr>\n",
       "      <th>17</th>\n",
       "      <td>79.691667</td>\n",
       "      <td>6.758333</td>\n",
       "      <td>-15.849167</td>\n",
       "      <td>25.948333</td>\n",
       "    </tr>\n",
       "    <tr>\n",
       "      <th>12</th>\n",
       "      <td>79.366667</td>\n",
       "      <td>8.650000</td>\n",
       "      <td>0.598333</td>\n",
       "      <td>94.488333</td>\n",
       "    </tr>\n",
       "    <tr>\n",
       "      <th>3</th>\n",
       "      <td>78.203226</td>\n",
       "      <td>7.096774</td>\n",
       "      <td>-2.329032</td>\n",
       "      <td>13.405161</td>\n",
       "    </tr>\n",
       "    <tr>\n",
       "      <th>2</th>\n",
       "      <td>77.462222</td>\n",
       "      <td>8.308889</td>\n",
       "      <td>3.861333</td>\n",
       "      <td>24.295333</td>\n",
       "    </tr>\n",
       "    <tr>\n",
       "      <th>8</th>\n",
       "      <td>75.833333</td>\n",
       "      <td>8.326667</td>\n",
       "      <td>14.228000</td>\n",
       "      <td>23.718000</td>\n",
       "    </tr>\n",
       "    <tr>\n",
       "      <th>4</th>\n",
       "      <td>75.333333</td>\n",
       "      <td>5.070370</td>\n",
       "      <td>-6.780370</td>\n",
       "      <td>5.635185</td>\n",
       "    </tr>\n",
       "    <tr>\n",
       "      <th>6</th>\n",
       "      <td>74.483333</td>\n",
       "      <td>7.850000</td>\n",
       "      <td>14.865000</td>\n",
       "      <td>94.965000</td>\n",
       "    </tr>\n",
       "    <tr>\n",
       "      <th>1</th>\n",
       "      <td>71.740000</td>\n",
       "      <td>2.620000</td>\n",
       "      <td>-21.088000</td>\n",
       "      <td>-16.552000</td>\n",
       "    </tr>\n",
       "    <tr>\n",
       "      <th>10</th>\n",
       "      <td>69.876471</td>\n",
       "      <td>5.441176</td>\n",
       "      <td>4.181176</td>\n",
       "      <td>13.714706</td>\n",
       "    </tr>\n",
       "    <tr>\n",
       "      <th>15</th>\n",
       "      <td>69.612903</td>\n",
       "      <td>6.380645</td>\n",
       "      <td>-3.613226</td>\n",
       "      <td>31.692258</td>\n",
       "    </tr>\n",
       "    <tr>\n",
       "      <th>18</th>\n",
       "      <td>68.800000</td>\n",
       "      <td>2.500000</td>\n",
       "      <td>-1.321818</td>\n",
       "      <td>-7.032727</td>\n",
       "    </tr>\n",
       "    <tr>\n",
       "      <th>9</th>\n",
       "      <td>65.987879</td>\n",
       "      <td>8.330303</td>\n",
       "      <td>6.919091</td>\n",
       "      <td>35.724848</td>\n",
       "    </tr>\n",
       "    <tr>\n",
       "      <th>0</th>\n",
       "      <td>64.755556</td>\n",
       "      <td>8.069444</td>\n",
       "      <td>-1.207222</td>\n",
       "      <td>11.860556</td>\n",
       "    </tr>\n",
       "    <tr>\n",
       "      <th>13</th>\n",
       "      <td>61.518182</td>\n",
       "      <td>7.542424</td>\n",
       "      <td>6.443939</td>\n",
       "      <td>7.063939</td>\n",
       "    </tr>\n",
       "    <tr>\n",
       "      <th>11</th>\n",
       "      <td>57.931034</td>\n",
       "      <td>5.131034</td>\n",
       "      <td>-2.478276</td>\n",
       "      <td>-2.142759</td>\n",
       "    </tr>\n",
       "    <tr>\n",
       "      <th>5</th>\n",
       "      <td>51.875000</td>\n",
       "      <td>8.075000</td>\n",
       "      <td>-0.253500</td>\n",
       "      <td>21.954000</td>\n",
       "    </tr>\n",
       "    <tr>\n",
       "      <th>7</th>\n",
       "      <td>33.180000</td>\n",
       "      <td>2.060000</td>\n",
       "      <td>-9.562000</td>\n",
       "      <td>-15.588000</td>\n",
       "    </tr>\n",
       "  </tbody>\n",
       "</table>\n",
       "</div>"
      ],
      "text/plain": [
       "           fg        ss        mtd        ytd\n",
       "19  88.000000  4.566667  13.213333  -4.903333\n",
       "14  80.333333  7.360000  -1.132667  59.569333\n",
       "16  79.952941  8.847059  10.347647  48.696471\n",
       "17  79.691667  6.758333 -15.849167  25.948333\n",
       "12  79.366667  8.650000   0.598333  94.488333\n",
       "3   78.203226  7.096774  -2.329032  13.405161\n",
       "2   77.462222  8.308889   3.861333  24.295333\n",
       "8   75.833333  8.326667  14.228000  23.718000\n",
       "4   75.333333  5.070370  -6.780370   5.635185\n",
       "6   74.483333  7.850000  14.865000  94.965000\n",
       "1   71.740000  2.620000 -21.088000 -16.552000\n",
       "10  69.876471  5.441176   4.181176  13.714706\n",
       "15  69.612903  6.380645  -3.613226  31.692258\n",
       "18  68.800000  2.500000  -1.321818  -7.032727\n",
       "9   65.987879  8.330303   6.919091  35.724848\n",
       "0   64.755556  8.069444  -1.207222  11.860556\n",
       "13  61.518182  7.542424   6.443939   7.063939\n",
       "11  57.931034  5.131034  -2.478276  -2.142759\n",
       "5   51.875000  8.075000  -0.253500  21.954000\n",
       "7   33.180000  2.060000  -9.562000 -15.588000"
      ]
     },
     "execution_count": 19,
     "metadata": {},
     "output_type": "execute_result"
    }
   ],
   "source": [
    "cluster_data.sort_values(by = 'fg', ascending=False)"
   ]
  },
  {
   "cell_type": "code",
   "execution_count": 20,
   "metadata": {},
   "outputs": [
    {
     "data": {
      "text/html": [
       "<div>\n",
       "<style scoped>\n",
       "    .dataframe tbody tr th:only-of-type {\n",
       "        vertical-align: middle;\n",
       "    }\n",
       "\n",
       "    .dataframe tbody tr th {\n",
       "        vertical-align: top;\n",
       "    }\n",
       "\n",
       "    .dataframe thead th {\n",
       "        text-align: right;\n",
       "    }\n",
       "</style>\n",
       "<table border=\"1\" class=\"dataframe\">\n",
       "  <thead>\n",
       "    <tr style=\"text-align: right;\">\n",
       "      <th></th>\n",
       "      <th>fg</th>\n",
       "      <th>ss</th>\n",
       "      <th>mtd</th>\n",
       "      <th>ytd</th>\n",
       "    </tr>\n",
       "  </thead>\n",
       "  <tbody>\n",
       "    <tr>\n",
       "      <th>6</th>\n",
       "      <td>74.483333</td>\n",
       "      <td>7.850000</td>\n",
       "      <td>14.865000</td>\n",
       "      <td>94.965000</td>\n",
       "    </tr>\n",
       "    <tr>\n",
       "      <th>12</th>\n",
       "      <td>79.366667</td>\n",
       "      <td>8.650000</td>\n",
       "      <td>0.598333</td>\n",
       "      <td>94.488333</td>\n",
       "    </tr>\n",
       "    <tr>\n",
       "      <th>14</th>\n",
       "      <td>80.333333</td>\n",
       "      <td>7.360000</td>\n",
       "      <td>-1.132667</td>\n",
       "      <td>59.569333</td>\n",
       "    </tr>\n",
       "    <tr>\n",
       "      <th>16</th>\n",
       "      <td>79.952941</td>\n",
       "      <td>8.847059</td>\n",
       "      <td>10.347647</td>\n",
       "      <td>48.696471</td>\n",
       "    </tr>\n",
       "    <tr>\n",
       "      <th>9</th>\n",
       "      <td>65.987879</td>\n",
       "      <td>8.330303</td>\n",
       "      <td>6.919091</td>\n",
       "      <td>35.724848</td>\n",
       "    </tr>\n",
       "    <tr>\n",
       "      <th>15</th>\n",
       "      <td>69.612903</td>\n",
       "      <td>6.380645</td>\n",
       "      <td>-3.613226</td>\n",
       "      <td>31.692258</td>\n",
       "    </tr>\n",
       "    <tr>\n",
       "      <th>17</th>\n",
       "      <td>79.691667</td>\n",
       "      <td>6.758333</td>\n",
       "      <td>-15.849167</td>\n",
       "      <td>25.948333</td>\n",
       "    </tr>\n",
       "    <tr>\n",
       "      <th>2</th>\n",
       "      <td>77.462222</td>\n",
       "      <td>8.308889</td>\n",
       "      <td>3.861333</td>\n",
       "      <td>24.295333</td>\n",
       "    </tr>\n",
       "    <tr>\n",
       "      <th>8</th>\n",
       "      <td>75.833333</td>\n",
       "      <td>8.326667</td>\n",
       "      <td>14.228000</td>\n",
       "      <td>23.718000</td>\n",
       "    </tr>\n",
       "    <tr>\n",
       "      <th>5</th>\n",
       "      <td>51.875000</td>\n",
       "      <td>8.075000</td>\n",
       "      <td>-0.253500</td>\n",
       "      <td>21.954000</td>\n",
       "    </tr>\n",
       "    <tr>\n",
       "      <th>10</th>\n",
       "      <td>69.876471</td>\n",
       "      <td>5.441176</td>\n",
       "      <td>4.181176</td>\n",
       "      <td>13.714706</td>\n",
       "    </tr>\n",
       "    <tr>\n",
       "      <th>3</th>\n",
       "      <td>78.203226</td>\n",
       "      <td>7.096774</td>\n",
       "      <td>-2.329032</td>\n",
       "      <td>13.405161</td>\n",
       "    </tr>\n",
       "    <tr>\n",
       "      <th>0</th>\n",
       "      <td>64.755556</td>\n",
       "      <td>8.069444</td>\n",
       "      <td>-1.207222</td>\n",
       "      <td>11.860556</td>\n",
       "    </tr>\n",
       "    <tr>\n",
       "      <th>13</th>\n",
       "      <td>61.518182</td>\n",
       "      <td>7.542424</td>\n",
       "      <td>6.443939</td>\n",
       "      <td>7.063939</td>\n",
       "    </tr>\n",
       "    <tr>\n",
       "      <th>4</th>\n",
       "      <td>75.333333</td>\n",
       "      <td>5.070370</td>\n",
       "      <td>-6.780370</td>\n",
       "      <td>5.635185</td>\n",
       "    </tr>\n",
       "    <tr>\n",
       "      <th>11</th>\n",
       "      <td>57.931034</td>\n",
       "      <td>5.131034</td>\n",
       "      <td>-2.478276</td>\n",
       "      <td>-2.142759</td>\n",
       "    </tr>\n",
       "    <tr>\n",
       "      <th>19</th>\n",
       "      <td>88.000000</td>\n",
       "      <td>4.566667</td>\n",
       "      <td>13.213333</td>\n",
       "      <td>-4.903333</td>\n",
       "    </tr>\n",
       "    <tr>\n",
       "      <th>18</th>\n",
       "      <td>68.800000</td>\n",
       "      <td>2.500000</td>\n",
       "      <td>-1.321818</td>\n",
       "      <td>-7.032727</td>\n",
       "    </tr>\n",
       "    <tr>\n",
       "      <th>7</th>\n",
       "      <td>33.180000</td>\n",
       "      <td>2.060000</td>\n",
       "      <td>-9.562000</td>\n",
       "      <td>-15.588000</td>\n",
       "    </tr>\n",
       "    <tr>\n",
       "      <th>1</th>\n",
       "      <td>71.740000</td>\n",
       "      <td>2.620000</td>\n",
       "      <td>-21.088000</td>\n",
       "      <td>-16.552000</td>\n",
       "    </tr>\n",
       "  </tbody>\n",
       "</table>\n",
       "</div>"
      ],
      "text/plain": [
       "           fg        ss        mtd        ytd\n",
       "6   74.483333  7.850000  14.865000  94.965000\n",
       "12  79.366667  8.650000   0.598333  94.488333\n",
       "14  80.333333  7.360000  -1.132667  59.569333\n",
       "16  79.952941  8.847059  10.347647  48.696471\n",
       "9   65.987879  8.330303   6.919091  35.724848\n",
       "15  69.612903  6.380645  -3.613226  31.692258\n",
       "17  79.691667  6.758333 -15.849167  25.948333\n",
       "2   77.462222  8.308889   3.861333  24.295333\n",
       "8   75.833333  8.326667  14.228000  23.718000\n",
       "5   51.875000  8.075000  -0.253500  21.954000\n",
       "10  69.876471  5.441176   4.181176  13.714706\n",
       "3   78.203226  7.096774  -2.329032  13.405161\n",
       "0   64.755556  8.069444  -1.207222  11.860556\n",
       "13  61.518182  7.542424   6.443939   7.063939\n",
       "4   75.333333  5.070370  -6.780370   5.635185\n",
       "11  57.931034  5.131034  -2.478276  -2.142759\n",
       "19  88.000000  4.566667  13.213333  -4.903333\n",
       "18  68.800000  2.500000  -1.321818  -7.032727\n",
       "7   33.180000  2.060000  -9.562000 -15.588000\n",
       "1   71.740000  2.620000 -21.088000 -16.552000"
      ]
     },
     "execution_count": 20,
     "metadata": {},
     "output_type": "execute_result"
    }
   ],
   "source": [
    "cluster_data.sort_values(by = 'ytd', ascending=False)"
   ]
  },
  {
   "cell_type": "code",
   "execution_count": 21,
   "metadata": {},
   "outputs": [
    {
     "name": "stdout",
     "output_type": "stream",
     "text": [
      "1\n",
      "2\n",
      "3\n",
      "4\n",
      "5\n",
      "6\n",
      "7\n",
      "8\n",
      "9\n",
      "10\n",
      "11\n",
      "12\n",
      "13\n",
      "14\n",
      "15\n",
      "16\n",
      "17\n",
      "18\n",
      "19\n",
      "20\n"
     ]
    },
    {
     "data": {
      "image/png": "[encoded data removed]",
      "text/plain": [
       "<Figure size 432x288 with 1 Axes>"
      ]
     },
     "metadata": {
      "needs_background": "light"
     },
     "output_type": "display_data"
    }
   ],
   "source": [
    "from matplotlib import pyplot as plt\n",
    "\n",
    "wcss = []\n",
    "\n",
    "for i in range(1,kmeans.n_clusters+1):\n",
    "    km=KMeans(n_clusters=i, init='k-means++', max_iter=300, n_init=10, random_state=0)\n",
    "    km.fit(barrons_scaled)\n",
    "    wcss.append(km.inertia_)\n",
    "    print(i)\n",
    "    \n",
    "plt.plot(range(1,kmeans.n_clusters+1), wcss)\n",
    "# check if we can enlarge size of figure\n",
    "plt.figsize=(10, 12)\n",
    "plt.title('KMeans Elbow Method')\n",
    "plt.xlabel('Number of clusters')\n",
    "plt.ylabel('wcss')\n",
    "plt.show()"
   ]
  },
  {
   "cell_type": "code",
   "execution_count": 22,
   "metadata": {},
   "outputs": [
    {
     "data": {
      "text/plain": [
       "KMeans(n_clusters=6, random_state=0)"
      ]
     },
     "execution_count": 22,
     "metadata": {},
     "output_type": "execute_result"
    }
   ],
   "source": [
    "km=KMeans(n_clusters=6, init='k-means++', max_iter=300, n_init=10, random_state=0)\n",
    "km.fit(barrons_scaled)"
   ]
  },
  {
   "cell_type": "code",
   "execution_count": 23,
   "metadata": {},
   "outputs": [
    {
     "name": "stdout",
     "output_type": "stream",
     "text": [
      "Cluster # 0\n",
      "Fundamental Grade Avg 61.15\n",
      "Sentiment Score Avg 7.57\n",
      "Month to Date Avg 2.02\n",
      "Year to Date Avg 12.93\n",
      "\n",
      "Cluster # 1\n",
      "Fundamental Grade Avg 77.18\n",
      "Sentiment Score Avg 7.98\n",
      "Month to Date Avg 6.14\n",
      "Year to Date Avg 76.61\n",
      "\n",
      "Cluster # 2\n",
      "Fundamental Grade Avg 75.17\n",
      "Sentiment Score Avg 8.36\n",
      "Month to Date Avg 7.28\n",
      "Year to Date Avg 28.67\n",
      "\n",
      "Cluster # 3\n",
      "Fundamental Grade Avg 72.46\n",
      "Sentiment Score Avg 4.14\n",
      "Month to Date Avg -4.56\n",
      "Year to Date Avg 0.10\n",
      "\n",
      "Cluster # 4\n",
      "Fundamental Grade Avg 47.36\n",
      "Sentiment Score Avg 4.05\n",
      "Month to Date Avg -5.14\n",
      "Year to Date Avg -6.39\n",
      "\n",
      "Cluster # 5\n",
      "Fundamental Grade Avg 75.54\n",
      "Sentiment Score Avg 6.88\n",
      "Month to Date Avg -4.93\n",
      "Year to Date Avg 23.83\n",
      "\n"
     ]
    }
   ],
   "source": [
    "cluster_data_six = pd.DataFrame(columns = ['fg', 'ss', 'mtd', 'ytd'])\n",
    "\n",
    "for i in range(km.n_clusters):\n",
    "    fg = 0\n",
    "    ss = 0 \n",
    "    mtd = 0 \n",
    "    ytd = 0 \n",
    "    count = 0\n",
    "    for j in range(len(barrons)):\n",
    "        if km.labels_[j] == i:\n",
    "            fg += barrons['Fundamental Grade'][j]\n",
    "            ss += barrons['Sentiment Score'][j]\n",
    "            mtd += barrons['MTD'][j]\n",
    "            ytd += barrons['YTD'][j]\n",
    "            count += 1\n",
    "    print('Cluster #', i)\n",
    "    print('Fundamental Grade Avg', '{:.2f}'.format(fg / count))\n",
    "    print('Sentiment Score Avg', '{:.2f}'.format(ss / count))\n",
    "    print('Month to Date Avg', '{:.2f}'.format(mtd / count))\n",
    "    print('Year to Date Avg', '{:.2f}'.format(ytd / count))\n",
    "    print('')\n",
    "    cluster_data_six = cluster_data_six.append({'fg': fg / count, 'ss': ss / count, 'mtd': mtd / count, 'ytd': ytd / count}, ignore_index=True)"
   ]
  },
  {
   "cell_type": "code",
   "execution_count": 24,
   "metadata": {},
   "outputs": [
    {
     "data": {
      "text/html": [
       "<div>\n",
       "<style scoped>\n",
       "    .dataframe tbody tr th:only-of-type {\n",
       "        vertical-align: middle;\n",
       "    }\n",
       "\n",
       "    .dataframe tbody tr th {\n",
       "        vertical-align: top;\n",
       "    }\n",
       "\n",
       "    .dataframe thead th {\n",
       "        text-align: right;\n",
       "    }\n",
       "</style>\n",
       "<table border=\"1\" class=\"dataframe\">\n",
       "  <thead>\n",
       "    <tr style=\"text-align: right;\">\n",
       "      <th></th>\n",
       "      <th>fg</th>\n",
       "      <th>ss</th>\n",
       "      <th>mtd</th>\n",
       "      <th>ytd</th>\n",
       "    </tr>\n",
       "  </thead>\n",
       "  <tbody>\n",
       "    <tr>\n",
       "      <th>0</th>\n",
       "      <td>61.149541</td>\n",
       "      <td>7.565138</td>\n",
       "      <td>2.021284</td>\n",
       "      <td>12.925138</td>\n",
       "    </tr>\n",
       "    <tr>\n",
       "      <th>1</th>\n",
       "      <td>77.179310</td>\n",
       "      <td>7.975862</td>\n",
       "      <td>6.137241</td>\n",
       "      <td>76.606207</td>\n",
       "    </tr>\n",
       "    <tr>\n",
       "      <th>2</th>\n",
       "      <td>75.168687</td>\n",
       "      <td>8.355556</td>\n",
       "      <td>7.276162</td>\n",
       "      <td>28.666768</td>\n",
       "    </tr>\n",
       "    <tr>\n",
       "      <th>3</th>\n",
       "      <td>72.455556</td>\n",
       "      <td>4.137037</td>\n",
       "      <td>-4.563704</td>\n",
       "      <td>0.103519</td>\n",
       "    </tr>\n",
       "    <tr>\n",
       "      <th>4</th>\n",
       "      <td>47.361905</td>\n",
       "      <td>4.047619</td>\n",
       "      <td>-5.140476</td>\n",
       "      <td>-6.388571</td>\n",
       "    </tr>\n",
       "    <tr>\n",
       "      <th>5</th>\n",
       "      <td>75.535294</td>\n",
       "      <td>6.877647</td>\n",
       "      <td>-4.933294</td>\n",
       "      <td>23.825647</td>\n",
       "    </tr>\n",
       "  </tbody>\n",
       "</table>\n",
       "</div>"
      ],
      "text/plain": [
       "          fg        ss       mtd        ytd\n",
       "0  61.149541  7.565138  2.021284  12.925138\n",
       "1  77.179310  7.975862  6.137241  76.606207\n",
       "2  75.168687  8.355556  7.276162  28.666768\n",
       "3  72.455556  4.137037 -4.563704   0.103519\n",
       "4  47.361905  4.047619 -5.140476  -6.388571\n",
       "5  75.535294  6.877647 -4.933294  23.825647"
      ]
     },
     "execution_count": 24,
     "metadata": {},
     "output_type": "execute_result"
    }
   ],
   "source": [
    "cluster_data_six"
   ]
  },
  {
   "cell_type": "code",
   "execution_count": 25,
   "metadata": {},
   "outputs": [
    {
     "data": {
      "image/png": "[encoded data removed]",
      "text/plain": [
       "<Figure size 432x288 with 1 Axes>"
      ]
     },
     "metadata": {
      "needs_background": "light"
     },
     "output_type": "display_data"
    }
   ],
   "source": [
    "plt.scatter(cluster_data_six['fg'], cluster_data_six['ss'])\n",
    "plt.title('Cluster Centers - FG and SS')\n",
    "plt.xlabel('Fundamental Grade')\n",
    "plt.ylabel('Sentiment Score')\n",
    "plt.show()"
   ]
  },
  {
   "cell_type": "code",
   "execution_count": 26,
   "metadata": {},
   "outputs": [
    {
     "name": "stdout",
     "output_type": "stream",
     "text": [
      "W Wayfair, Inc. Class A\n",
      "DLTR Dollar Tree, Inc.\n",
      "BLL Ball Corporation\n",
      "PTON Peloton Interactive, Inc.\n",
      "CAG Conagra Brands, Inc.\n",
      "FMC FMC Corporation\n",
      "RPRX Royalty Pharma Plc Class \n",
      "GIS General Mills, Inc.\n",
      "CLX Clorox Company\n",
      "MKTX MarketAxess Holdings Inc.\n",
      "BF.B Brown-Forman Corporation \n",
      "CTXS Citrix Systems, Inc.\n",
      "PPL PPL Corporation\n",
      "BAX Baxter International Inc.\n",
      "UTHR United Therapeutics Corpo\n",
      "AMRX Amneal Pharmaceuticals, I\n",
      "INSW International Seaways, In\n",
      "KSU Kansas City Southern\n",
      "CCMP CMC Materials, Inc.\n",
      "FF FutureFuel Corp.\n",
      "VHC VirnetX Holding Corporati\n"
     ]
    }
   ],
   "source": [
    "for i in range(len(barrons)):\n",
    "    if km.labels_[i] == 4:\n",
    "        print(barrons['Ticker'][i], barrons['Company Name'][i])"
   ]
  },
  {
   "cell_type": "code",
   "execution_count": 27,
   "metadata": {},
   "outputs": [
    {
     "name": "stdout",
     "output_type": "stream",
     "text": [
      "FLGT Fulgent Genetics, Inc.\n",
      "DKS Dick's Sporting Goods, In\n",
      "GOOGL Alphabet Inc. Class A\n",
      "HIBB Hibbett Inc\n",
      "LGIH LGI Homes, Inc.\n",
      "HZO MarineMax, Inc.\n",
      "CROX Crocs, Inc.\n",
      "ATKR Atkore Inc\n",
      "TPX Tempur Sealy Internationa\n",
      "AMAT Applied Materials, Inc.\n",
      "XPEL XPEL, Inc.\n",
      "CCS Century Communities, Inc.\n",
      "SFBS ServisFirst Bancshares In\n",
      "WAL Western Alliance Bancorp\n",
      "ONEW OneWater Marine Inc Class\n",
      "TBK Triumph Bancorp, Inc.\n",
      "CLFD Clearfield, Inc.\n",
      "CPRX Catalyst Pharmaceuticals,\n",
      "WAT Waters Corporation\n",
      "GNRC Generac Holdings Inc.\n",
      "MCB Metropolitan Bank Holding\n",
      "CUBI Customers Bancorp, Inc.\n",
      "RVLV Revolve Group, Inc Class \n",
      "TBBK Bancorp Inc\n",
      "CMBM Cambium Networks Corporat\n",
      "AVNW Aviat Networks, Inc.\n",
      "FTNT Fortinet, Inc.\n",
      "CRL Charles River Laboratorie\n",
      "IT Gartner, Inc.\n"
     ]
    }
   ],
   "source": [
    "for i in range(len(barrons)):\n",
    "    if km.labels_[i] == 1:\n",
    "        print(barrons['Ticker'][i], barrons['Company Name'][i])"
   ]
  },
  {
   "cell_type": "code",
   "execution_count": 45,
   "metadata": {},
   "outputs": [
    {
     "data": {
      "image/png": "[encoded data removed]",
      "text/plain": [
       "<Figure size 900x1080 with 6 Axes>"
      ]
     },
     "metadata": {
      "needs_background": "light"
     },
     "output_type": "display_data"
    }
   ],
   "source": [
    "centers = pd.DataFrame(km.cluster_centers_, columns=barrons_cluster.columns)\n",
    "\n",
    "f, axes = plt.subplots(km.n_clusters, 1, figsize=(12.5, 15), sharex=True)\n",
    "f.suptitle('Cluster Centers Comparison', fontsize=20)\n",
    "for i, ax in enumerate(axes):\n",
    "    center = centers.loc[i, :]\n",
    "#    maxPC = 1.01 * np.max(np.max(np.abs(center)))\n",
    "    max_C = 2.5\n",
    "    colors = ['C0' if l > 0 else 'C1' for l in center]\n",
    "    ax.axhline(color='#888888')\n",
    "    center.plot.bar(ax=ax, color=colors)\n",
    "    ax.set_ylabel(f'Cluster {i}')\n",
    "    ax.set_ylim(-max_C, max_C)\n",
    "\n",
    "plt.tight_layout()\n",
    "plt.show()"
   ]
  },
  {
   "cell_type": "code",
   "execution_count": null,
   "metadata": {},
   "outputs": [],
   "source": []
  }
 ],
 "metadata": {
  "kernelspec": {
   "display_name": "Python 3",
   "language": "python",
   "name": "python3"
  },
  "language_info": {
   "codemirror_mode": {
    "name": "ipython",
    "version": 3
   },
   "file_extension": ".py",
   "mimetype": "text/x-python",
   "name": "python",
   "nbconvert_exporter": "python",
   "pygments_lexer": "ipython3",
   "version": "3.8.6"
  }
 },
 "nbformat": 4,
 "nbformat_minor": 4
}
