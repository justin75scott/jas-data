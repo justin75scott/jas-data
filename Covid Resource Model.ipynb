{
 "cells": [
  {
   "cell_type": "markdown",
   "metadata": {},
   "source": [
    "***Description of problem.***\n",
    "With the Covid-19 pandemic, there is a need for patients to have access to hospitals for treatment. This has been challenging as the demand for medical care, as measured by the number of patients, has exceeded the supply of hospital beds in qualifying facilities in many locations.\n",
    "\n",
    "Our scenario involves 9 counties where patients reside, and 14 hospitals. In order to provide additional capacity for Covid patients, hospitals can set up temporary facilities on their premises. For the purpose of this analysis, this will increase capacity by up to 100 patients at each hospital. We need to allocate all patients to a specific hospital, and do so while minimizing the overall cost for transportation and extra capacity."
   ]
  },
  {
   "cell_type": "markdown",
   "metadata": {},
   "source": [
    "***Describe solution for problem***\n",
    "We built a model to allocate patients to hospitals based on their locations, the demand and available capacity, including extra facilities co-located with existing hospitals. This model is a mixed integer (this includes both binary and continuous variables) linear program built within a Python framework.\n",
    "\n",
    "The location of all patients are based on the centroid coordinates of their county of residence. Each county has a specific level of demand for medical care, and each hospital has a capacity for care that it can provide in their regular facilities. We can measure the distance between each county centroid and hospital location in order to calculate the travel cost, which is $5 per mile.\n",
    "\n",
    "There is an objective function to calculate the total cost, which consists of three pieces. One is the travel cost mentioned previously. The others are a fixed cost to set up extra capacity, regardless of how much extra capacity is used; and a variable cost that is based on the number of patients using the extra capacity.\n",
    "\n",
    "The optimization problem is set up with three constraints, in order to minimize the total cost. These constraints align the total demand with total hospital capacity; ensures that the aggregate extra capacity can accommodate the demand; and sets a maximum extra capacity level in each hospital.\n",
    "\n",
    "Once the optimization problem was solved, after all 14 hospitals had their regular facilities allocated, 3 hospitals were identified for expanded capacity. Of these, 2 used all of the expanded capacity available and 1 used only enough to ensure the remaining patients were allocated. The optimal (i.e. minimal) final cost was calculated as about $1,140,129."
   ]
  },
  {
   "cell_type": "code",
   "execution_count": 49,
   "metadata": {},
   "outputs": [],
   "source": [
    "# There are Covid patients from several counties. These patients need to be assigned to hospitals\n",
    "# which have varied levels of capacity, and each have 100 units of extra capacity outside their regular facilities.\n",
    "\n",
    "import pulp as p\n",
    "from pulp import LpBinary,value,lpSum,LpStatus"
   ]
  },
  {
   "cell_type": "code",
   "execution_count": 50,
   "metadata": {},
   "outputs": [],
   "source": [
    "# identification of nnumerous counties\n",
    "COUNTIES = ['c1', 'c2', 'c3', 'c4', 'c5', 'c6', 'c7', 'c8', 'c9']\n",
    "\n",
    "# identification of numerous hospitals\n",
    "HOSPITALS = ['h1', 'h2', 'h3', 'h4', 'h5', 'h6', 'h7', 'h8', 'h9', 'h10', 'h11', 'h12', 'h13', 'h14']"
   ]
  },
  {
   "cell_type": "code",
   "execution_count": 51,
   "metadata": {},
   "outputs": [],
   "source": [
    "# locations of county centroids that are associated with Covid patients\n",
    "\n",
    "county_coord_list = {\n",
    "'c1': [1.0, 1.5],\n",
    "'c2': [3.0, 1.0],\n",
    "'c3': [5.5, 1.5],\n",
    "'c4': [1.0, 4.5],\n",
    "'c5': [3.0, 3.5],\n",
    "'c6': [5.5, 4.5],\n",
    "'c7': [1.0, 8.0],\n",
    "'c8': [3.0, 6.0],\n",
    "'c9': [4.5, 8.0]}"
   ]
  },
  {
   "cell_type": "code",
   "execution_count": 52,
   "metadata": {},
   "outputs": [],
   "source": [
    "# demand level representing the number of Covid patients in each county\n",
    "\n",
    "county_demand_list = {\n",
    "'c1': 351,\n",
    "'c2': 230,\n",
    "'c3': 529,\n",
    "'c4': 339,\n",
    "'c5': 360,\n",
    "'c6': 527,\n",
    "'c7': 469,\n",
    "'c8': 234,\n",
    "'c9': 500}"
   ]
  },
  {
   "cell_type": "code",
   "execution_count": 53,
   "metadata": {},
   "outputs": [],
   "source": [
    "# locations of hospitals\n",
    "\n",
    "hosp_coord_list = {\n",
    "'h1': [1.0, 2.0],\n",
    "'h2': [2.5, 1.0],\n",
    "'h3': [5.0, 1.0],\n",
    "'h4': [6.5, 3.5],\n",
    "'h5': [1.0, 5.0],\n",
    "'h6': [3.0, 4.0],\n",
    "'h7': [5.0, 4.0],\n",
    "'h8': [6.5, 5.5],\n",
    "'h9': [1.0, 8.5],\n",
    "'h10': [1.5, 9.5],\n",
    "'h11': [8.5, 6.0],\n",
    "'h12': [5.0, 8.0],\n",
    "'h13': [3.0, 9.0],\n",
    "'h14': [6.0, 9.0]}"
   ]
  },
  {
   "cell_type": "code",
   "execution_count": 54,
   "metadata": {},
   "outputs": [],
   "source": [
    "# capacity of regular facilities at each hospital\n",
    "\n",
    "hosp_cap_list = {\n",
    "'h1': 281,\n",
    "'h2': 187,\n",
    "'h3': 200,\n",
    "'h4': 223,\n",
    "'h5': 281,\n",
    "'h6': 281,\n",
    "'h7': 222,\n",
    "'h8': 200,\n",
    "'h9': 250,\n",
    "'h10': 125,\n",
    "'h11': 187,\n",
    "'h12': 300,\n",
    "'h13': 300,\n",
    "'h14': 243}"
   ]
  },
  {
   "cell_type": "code",
   "execution_count": 55,
   "metadata": {},
   "outputs": [],
   "source": [
    "# constant for travel cost\n",
    "cost_per_mile = 5\n",
    "# constant for population share with Covid\n",
    "covid_rate = .1\n",
    "# constant for extra capacity in hospitals outside regular facilities\n",
    "hosp_extra_cap = 100"
   ]
  },
  {
   "cell_type": "code",
   "execution_count": 56,
   "metadata": {},
   "outputs": [],
   "source": [
    "# constant for fixed cost to set up Covid units in hospital \n",
    "fixed_cost = 200000\n",
    "# constant for cost per Covid patient in hospital\n",
    "cost_per_patient = 2000"
   ]
  },
  {
   "cell_type": "code",
   "execution_count": 87,
   "metadata": {},
   "outputs": [
    {
     "name": "stdout",
     "output_type": "stream",
     "text": [
      "3539\n"
     ]
    }
   ],
   "source": [
    "# sum of total Covid patients, i.e. demand\n",
    "demand_values = county_demand_list.values()\n",
    "print(sum(demand_values))"
   ]
  },
  {
   "cell_type": "code",
   "execution_count": 88,
   "metadata": {},
   "outputs": [
    {
     "name": "stdout",
     "output_type": "stream",
     "text": [
      "3280\n"
     ]
    }
   ],
   "source": [
    "# sum of total Covid treatment capacity in regular hospital facilities\n",
    "cap_values = hosp_cap_list.values()\n",
    "print(sum(cap_values))"
   ]
  },
  {
   "cell_type": "code",
   "execution_count": 67,
   "metadata": {},
   "outputs": [],
   "source": [
    "import pandas as pd\n",
    "import numpy as np\n",
    "\n",
    "# create data frame for matrix with distances between each county centroid and hospital\n",
    "distance = pd.DataFrame(np.arange(126.000).reshape((9,14)),\n",
    "                   index=COUNTIES,\n",
    "                   columns=HOSPITALS)"
   ]
  },
  {
   "cell_type": "code",
   "execution_count": 70,
   "metadata": {},
   "outputs": [],
   "source": [
    "# populate data frame with distances between county centroids and hospitals\n",
    "for i in county_coord_list:\n",
    "    for j in hosp_coord_list:\n",
    "        distance[j][i] = float(np.sqrt((county_coord_list[i][0] - hosp_coord_list[j][0])**2 + (county_coord_list[i][1] - hosp_coord_list[j][1])**2))"
   ]
  },
  {
   "cell_type": "code",
   "execution_count": 71,
   "metadata": {},
   "outputs": [
    {
     "data": {
      "text/html": [
       "<div>\n",
       "<style scoped>\n",
       "    .dataframe tbody tr th:only-of-type {\n",
       "        vertical-align: middle;\n",
       "    }\n",
       "\n",
       "    .dataframe tbody tr th {\n",
       "        vertical-align: top;\n",
       "    }\n",
       "\n",
       "    .dataframe thead th {\n",
       "        text-align: right;\n",
       "    }\n",
       "</style>\n",
       "<table border=\"1\" class=\"dataframe\">\n",
       "  <thead>\n",
       "    <tr style=\"text-align: right;\">\n",
       "      <th></th>\n",
       "      <th>h1</th>\n",
       "      <th>h2</th>\n",
       "      <th>h3</th>\n",
       "      <th>h4</th>\n",
       "      <th>h5</th>\n",
       "      <th>h6</th>\n",
       "      <th>h7</th>\n",
       "      <th>h8</th>\n",
       "      <th>h9</th>\n",
       "      <th>h10</th>\n",
       "      <th>h11</th>\n",
       "      <th>h12</th>\n",
       "      <th>h13</th>\n",
       "      <th>h14</th>\n",
       "    </tr>\n",
       "  </thead>\n",
       "  <tbody>\n",
       "    <tr>\n",
       "      <th>c1</th>\n",
       "      <td>0.500000</td>\n",
       "      <td>1.581139</td>\n",
       "      <td>4.031129</td>\n",
       "      <td>5.852350</td>\n",
       "      <td>3.500000</td>\n",
       "      <td>3.201562</td>\n",
       "      <td>4.716991</td>\n",
       "      <td>6.800735</td>\n",
       "      <td>7.000000</td>\n",
       "      <td>8.015610</td>\n",
       "      <td>8.746428</td>\n",
       "      <td>7.632169</td>\n",
       "      <td>7.762087</td>\n",
       "      <td>9.013878</td>\n",
       "    </tr>\n",
       "    <tr>\n",
       "      <th>c2</th>\n",
       "      <td>2.236068</td>\n",
       "      <td>0.500000</td>\n",
       "      <td>2.000000</td>\n",
       "      <td>4.301163</td>\n",
       "      <td>4.472136</td>\n",
       "      <td>3.000000</td>\n",
       "      <td>3.605551</td>\n",
       "      <td>5.700877</td>\n",
       "      <td>7.762087</td>\n",
       "      <td>8.631338</td>\n",
       "      <td>7.433034</td>\n",
       "      <td>7.280110</td>\n",
       "      <td>8.000000</td>\n",
       "      <td>8.544004</td>\n",
       "    </tr>\n",
       "    <tr>\n",
       "      <th>c3</th>\n",
       "      <td>4.527693</td>\n",
       "      <td>3.041381</td>\n",
       "      <td>0.707107</td>\n",
       "      <td>2.236068</td>\n",
       "      <td>5.700877</td>\n",
       "      <td>3.535534</td>\n",
       "      <td>2.549510</td>\n",
       "      <td>4.123106</td>\n",
       "      <td>8.321658</td>\n",
       "      <td>8.944272</td>\n",
       "      <td>5.408327</td>\n",
       "      <td>6.519202</td>\n",
       "      <td>7.905694</td>\n",
       "      <td>7.516648</td>\n",
       "    </tr>\n",
       "    <tr>\n",
       "      <th>c4</th>\n",
       "      <td>2.500000</td>\n",
       "      <td>3.807887</td>\n",
       "      <td>5.315073</td>\n",
       "      <td>5.590170</td>\n",
       "      <td>0.500000</td>\n",
       "      <td>2.061553</td>\n",
       "      <td>4.031129</td>\n",
       "      <td>5.590170</td>\n",
       "      <td>4.000000</td>\n",
       "      <td>5.024938</td>\n",
       "      <td>7.648529</td>\n",
       "      <td>5.315073</td>\n",
       "      <td>4.924429</td>\n",
       "      <td>6.726812</td>\n",
       "    </tr>\n",
       "    <tr>\n",
       "      <th>c5</th>\n",
       "      <td>2.500000</td>\n",
       "      <td>2.549510</td>\n",
       "      <td>3.201562</td>\n",
       "      <td>3.500000</td>\n",
       "      <td>2.500000</td>\n",
       "      <td>0.500000</td>\n",
       "      <td>2.061553</td>\n",
       "      <td>4.031129</td>\n",
       "      <td>5.385165</td>\n",
       "      <td>6.184658</td>\n",
       "      <td>6.041523</td>\n",
       "      <td>4.924429</td>\n",
       "      <td>5.500000</td>\n",
       "      <td>6.264982</td>\n",
       "    </tr>\n",
       "    <tr>\n",
       "      <th>c6</th>\n",
       "      <td>5.147815</td>\n",
       "      <td>4.609772</td>\n",
       "      <td>3.535534</td>\n",
       "      <td>1.414214</td>\n",
       "      <td>4.527693</td>\n",
       "      <td>2.549510</td>\n",
       "      <td>0.707107</td>\n",
       "      <td>1.414214</td>\n",
       "      <td>6.020797</td>\n",
       "      <td>6.403124</td>\n",
       "      <td>3.354102</td>\n",
       "      <td>3.535534</td>\n",
       "      <td>5.147815</td>\n",
       "      <td>4.527693</td>\n",
       "    </tr>\n",
       "    <tr>\n",
       "      <th>c7</th>\n",
       "      <td>6.000000</td>\n",
       "      <td>7.158911</td>\n",
       "      <td>8.062258</td>\n",
       "      <td>7.106335</td>\n",
       "      <td>3.000000</td>\n",
       "      <td>4.472136</td>\n",
       "      <td>5.656854</td>\n",
       "      <td>6.041523</td>\n",
       "      <td>0.500000</td>\n",
       "      <td>1.581139</td>\n",
       "      <td>7.762087</td>\n",
       "      <td>4.000000</td>\n",
       "      <td>2.236068</td>\n",
       "      <td>5.099020</td>\n",
       "    </tr>\n",
       "    <tr>\n",
       "      <th>c8</th>\n",
       "      <td>4.472136</td>\n",
       "      <td>5.024938</td>\n",
       "      <td>5.385165</td>\n",
       "      <td>4.301163</td>\n",
       "      <td>2.236068</td>\n",
       "      <td>2.000000</td>\n",
       "      <td>2.828427</td>\n",
       "      <td>3.535534</td>\n",
       "      <td>3.201562</td>\n",
       "      <td>3.807887</td>\n",
       "      <td>5.500000</td>\n",
       "      <td>2.828427</td>\n",
       "      <td>3.000000</td>\n",
       "      <td>4.242641</td>\n",
       "    </tr>\n",
       "    <tr>\n",
       "      <th>c9</th>\n",
       "      <td>6.946222</td>\n",
       "      <td>7.280110</td>\n",
       "      <td>7.017834</td>\n",
       "      <td>4.924429</td>\n",
       "      <td>4.609772</td>\n",
       "      <td>4.272002</td>\n",
       "      <td>4.031129</td>\n",
       "      <td>3.201562</td>\n",
       "      <td>3.535534</td>\n",
       "      <td>3.354102</td>\n",
       "      <td>4.472136</td>\n",
       "      <td>0.500000</td>\n",
       "      <td>1.802776</td>\n",
       "      <td>1.802776</td>\n",
       "    </tr>\n",
       "  </tbody>\n",
       "</table>\n",
       "</div>"
      ],
      "text/plain": [
       "          h1        h2        h3        h4        h5        h6        h7  \\\n",
       "c1  0.500000  1.581139  4.031129  5.852350  3.500000  3.201562  4.716991   \n",
       "c2  2.236068  0.500000  2.000000  4.301163  4.472136  3.000000  3.605551   \n",
       "c3  4.527693  3.041381  0.707107  2.236068  5.700877  3.535534  2.549510   \n",
       "c4  2.500000  3.807887  5.315073  5.590170  0.500000  2.061553  4.031129   \n",
       "c5  2.500000  2.549510  3.201562  3.500000  2.500000  0.500000  2.061553   \n",
       "c6  5.147815  4.609772  3.535534  1.414214  4.527693  2.549510  0.707107   \n",
       "c7  6.000000  7.158911  8.062258  7.106335  3.000000  4.472136  5.656854   \n",
       "c8  4.472136  5.024938  5.385165  4.301163  2.236068  2.000000  2.828427   \n",
       "c9  6.946222  7.280110  7.017834  4.924429  4.609772  4.272002  4.031129   \n",
       "\n",
       "          h8        h9       h10       h11       h12       h13       h14  \n",
       "c1  6.800735  7.000000  8.015610  8.746428  7.632169  7.762087  9.013878  \n",
       "c2  5.700877  7.762087  8.631338  7.433034  7.280110  8.000000  8.544004  \n",
       "c3  4.123106  8.321658  8.944272  5.408327  6.519202  7.905694  7.516648  \n",
       "c4  5.590170  4.000000  5.024938  7.648529  5.315073  4.924429  6.726812  \n",
       "c5  4.031129  5.385165  6.184658  6.041523  4.924429  5.500000  6.264982  \n",
       "c6  1.414214  6.020797  6.403124  3.354102  3.535534  5.147815  4.527693  \n",
       "c7  6.041523  0.500000  1.581139  7.762087  4.000000  2.236068  5.099020  \n",
       "c8  3.535534  3.201562  3.807887  5.500000  2.828427  3.000000  4.242641  \n",
       "c9  3.201562  3.535534  3.354102  4.472136  0.500000  1.802776  1.802776  "
      ]
     },
     "execution_count": 71,
     "metadata": {},
     "output_type": "execute_result"
    }
   ],
   "source": [
    "distance"
   ]
  },
  {
   "cell_type": "code",
   "execution_count": 73,
   "metadata": {},
   "outputs": [
    {
     "data": {
      "text/plain": [
       "0.5"
      ]
     },
     "execution_count": 73,
     "metadata": {},
     "output_type": "execute_result"
    }
   ],
   "source": [
    "distance['h1']['c1']"
   ]
  },
  {
   "cell_type": "code",
   "execution_count": 74,
   "metadata": {},
   "outputs": [
    {
     "data": {
      "text/plain": [
       "351"
      ]
     },
     "execution_count": 74,
     "metadata": {},
     "output_type": "execute_result"
    }
   ],
   "source": [
    "county_demand_list['c1']"
   ]
  },
  {
   "cell_type": "code",
   "execution_count": 75,
   "metadata": {},
   "outputs": [],
   "source": [
    "# define problem as having the objective to identify a resource allocation solution with the minimum cost\n",
    "prob=p.LpProblem('Covid',p.LpMinimize)"
   ]
  },
  {
   "cell_type": "code",
   "execution_count": 76,
   "metadata": {},
   "outputs": [],
   "source": [
    "# variable for # of assigned patients from counties to hospitals\n",
    "ASSIGNMENTS=[(i,j) for i in COUNTIES for j in HOSPITALS]\n",
    "num_patients = p.LpVariable.dicts('Service',ASSIGNMENTS,0)"
   ]
  },
  {
   "cell_type": "code",
   "execution_count": 77,
   "metadata": {},
   "outputs": [],
   "source": [
    "# binary variable for whether or not each hospital will have additional capacity added\n",
    "expand = p.LpVariable.dicts('UseLocation',HOSPITALS,0,1,LpBinary)"
   ]
  },
  {
   "cell_type": "code",
   "execution_count": 78,
   "metadata": {},
   "outputs": [],
   "source": [
    "# define additional capacity values for each hospital\n",
    "add_capac = p.LpVariable.dicts('ExtraCapacity',HOSPITALS,0)"
   ]
  },
  {
   "cell_type": "code",
   "execution_count": 79,
   "metadata": {},
   "outputs": [],
   "source": [
    "# objective function includes travel cost, fixed cost (if capacity is added) and variable cost (per unit of capacity added)\n",
    "prob += p.lpSum(cost_per_mile*distance[j][i]*num_patients[(i,j)] for i in COUNTIES for j in HOSPITALS) \\\n",
    "+ p.lpSum(fixed_cost * expand[j] for j in HOSPITALS) + p.lpSum(cost_per_patient * add_capac[j] for j in HOSPITALS)"
   ]
  },
  {
   "cell_type": "code",
   "execution_count": 80,
   "metadata": {},
   "outputs": [],
   "source": [
    "# constraint to ensure that total demand from patients is met by the total capacity in hospitals\n",
    "for i in COUNTIES:\n",
    "    prob += p.lpSum(num_patients[(i,j)] for j in HOSPITALS) == county_demand_list[i]"
   ]
  },
  {
   "cell_type": "code",
   "execution_count": 82,
   "metadata": {},
   "outputs": [],
   "source": [
    "# constraint to ensure that the total demand from patients is no greater than the total capacity in hospitals, \n",
    "# including the extra capacity\n",
    "for j in HOSPITALS:\n",
    "    prob += p.lpSum(num_patients[(i,j)] for i in COUNTIES) <= hosp_cap_list[j] + add_capac[j]"
   ]
  },
  {
   "cell_type": "code",
   "execution_count": 83,
   "metadata": {},
   "outputs": [],
   "source": [
    "# constraint to ensure that additional capacity allocated per hospital is no greater than the extra capacity available\n",
    "# for those hospitals where extra capacity is used\n",
    "for j in HOSPITALS:\n",
    "    prob += add_capac[j] <= hosp_extra_cap * expand[j]"
   ]
  },
  {
   "cell_type": "code",
   "execution_count": 84,
   "metadata": {},
   "outputs": [
    {
     "data": {
      "text/plain": [
       "1"
      ]
     },
     "execution_count": 84,
     "metadata": {},
     "output_type": "execute_result"
    }
   ],
   "source": [
    "# solve optimization problem\n",
    "prob.solve()"
   ]
  },
  {
   "cell_type": "code",
   "execution_count": 85,
   "metadata": {},
   "outputs": [
    {
     "name": "stdout",
     "output_type": "stream",
     "text": [
      "Current Status Optimal\n"
     ]
    }
   ],
   "source": [
    "# print status of optimization problem\n",
    "print('Current Status',LpStatus[prob.status])"
   ]
  },
  {
   "cell_type": "code",
   "execution_count": 86,
   "metadata": {},
   "outputs": [
    {
     "name": "stdout",
     "output_type": "stream",
     "text": [
      "h1 1.0\n",
      "h2 0.0\n",
      "h3 1.0\n",
      "h4 0.0\n",
      "h5 1.0\n",
      "h6 0.0\n",
      "h7 0.0\n",
      "h8 0.0\n",
      "h9 0.0\n",
      "h10 0.0\n",
      "h11 0.0\n",
      "h12 0.0\n",
      "h13 0.0\n",
      "h14 0.0\n"
     ]
    }
   ],
   "source": [
    "# for optimal model, display whether or not extra capacity is needed at each hospital\n",
    "for j in HOSPITALS:\n",
    "    print(j, expand[j].varValue)"
   ]
  },
  {
   "cell_type": "code",
   "execution_count": 89,
   "metadata": {},
   "outputs": [
    {
     "name": "stdout",
     "output_type": "stream",
     "text": [
      "h1 100.0\n",
      "h2 0.0\n",
      "h3 100.0\n",
      "h4 0.0\n",
      "h5 59.0\n",
      "h6 0.0\n",
      "h7 0.0\n",
      "h8 0.0\n",
      "h9 0.0\n",
      "h10 0.0\n",
      "h11 0.0\n",
      "h12 0.0\n",
      "h13 0.0\n",
      "h14 0.0\n"
     ]
    }
   ],
   "source": [
    "# after running model, allocation of extra capacity per hospital\n",
    "for j in HOSPITALS:\n",
    "    print(j, add_capac[j].varValue)"
   ]
  },
  {
   "cell_type": "code",
   "execution_count": 90,
   "metadata": {},
   "outputs": [
    {
     "name": "stdout",
     "output_type": "stream",
     "text": [
      "ExtraCapacity_h1 = 100.0\n",
      "ExtraCapacity_h3 = 100.0\n",
      "ExtraCapacity_h5 = 59.0\n",
      "Service_('c1',_'h1') = 351.0\n",
      "Service_('c2',_'h1') = 30.0\n",
      "Service_('c2',_'h2') = 187.0\n",
      "Service_('c2',_'h7') = 13.0\n",
      "Service_('c3',_'h3') = 300.0\n",
      "Service_('c3',_'h4') = 223.0\n",
      "Service_('c3',_'h7') = 6.0\n",
      "Service_('c4',_'h5') = 339.0\n",
      "Service_('c5',_'h5') = 1.0\n",
      "Service_('c5',_'h6') = 281.0\n",
      "Service_('c5',_'h7') = 78.0\n",
      "Service_('c6',_'h11') = 187.0\n",
      "Service_('c6',_'h14') = 15.0\n",
      "Service_('c6',_'h7') = 125.0\n",
      "Service_('c6',_'h8') = 200.0\n",
      "Service_('c7',_'h10') = 125.0\n",
      "Service_('c7',_'h13') = 94.0\n",
      "Service_('c7',_'h9') = 250.0\n",
      "Service_('c8',_'h12') = 28.0\n",
      "Service_('c8',_'h13') = 206.0\n",
      "Service_('c9',_'h12') = 272.0\n",
      "Service_('c9',_'h14') = 228.0\n",
      "UseLocation_h1 = 1.0\n",
      "UseLocation_h3 = 1.0\n",
      "UseLocation_h5 = 1.0\n"
     ]
    }
   ],
   "source": [
    "# display final allocation of each county based set of patients to hospitals\n",
    "for v in prob.variables():\n",
    "    if v.varValue > 0:\n",
    "        print(v.name, '=', v.varValue)"
   ]
  },
  {
   "cell_type": "code",
   "execution_count": 91,
   "metadata": {},
   "outputs": [
    {
     "name": "stdout",
     "output_type": "stream",
     "text": [
      "1140128.7632103662\n"
     ]
    }
   ],
   "source": [
    "# final cost as determined by optimal model\n",
    "print(value(prob.objective))"
   ]
  },
  {
   "cell_type": "code",
   "execution_count": null,
   "metadata": {},
   "outputs": [],
   "source": []
  }
 ],
 "metadata": {
  "kernelspec": {
   "display_name": "Python 3",
   "language": "python",
   "name": "python3"
  },
  "language_info": {
   "codemirror_mode": {
    "name": "ipython",
    "version": 3
   },
   "file_extension": ".py",
   "mimetype": "text/x-python",
   "name": "python",
   "nbconvert_exporter": "python",
   "pygments_lexer": "ipython3",
   "version": "3.8.6"
  }
 },
 "nbformat": 4,
 "nbformat_minor": 4
}
